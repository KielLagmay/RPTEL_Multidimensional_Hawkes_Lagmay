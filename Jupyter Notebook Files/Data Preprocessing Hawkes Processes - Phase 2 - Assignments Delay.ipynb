{
 "cells": [
  {
   "cell_type": "code",
   "execution_count": null,
   "id": "136fa7a4",
   "metadata": {},
   "outputs": [],
   "source": [
    "import pandas as pd\n",
    "import numpy as np\n",
    "from os import listdir\n",
    "from os import path\n",
    "import pytz\n",
    "import glob\n",
    "from dateutil.parser import isoparse\n",
    "from datetime import datetime, timedelta\n",
    "import math\n",
    "import time\n",
    "from DirectoryGenerator import DirectoryGenerator"
   ]
  },
  {
   "cell_type": "code",
   "execution_count": null,
   "id": "b91ff538",
   "metadata": {},
   "outputs": [],
   "source": [
    "dirGen = DirectoryGenerator()"
   ]
  },
  {
   "cell_type": "code",
   "execution_count": null,
   "id": "9511eb0b",
   "metadata": {},
   "outputs": [],
   "source": [
    "startDate = datetime.strptime(str(input(\"Start Date (Format: YYYY-MM-DD): \")), \"%Y-%m-%d\").astimezone(pytz.utc)\n",
    "startDate"
   ]
  },
  {
   "cell_type": "code",
   "execution_count": null,
   "id": "2ec76e7f",
   "metadata": {},
   "outputs": [],
   "source": [
    "endDate = datetime.strptime(str(input(\"End Date (Format: YYYY-MM-DD): \")), \"%Y-%m-%d\").astimezone(pytz.utc)\n",
    "endDate"
   ]
  },
  {
   "cell_type": "code",
   "execution_count": null,
   "id": "333eaf6e",
   "metadata": {},
   "outputs": [],
   "source": [
    "totalDays = abs(endDate - startDate).days + 1\n",
    "totalDays"
   ]
  },
  {
   "cell_type": "code",
   "execution_count": null,
   "id": "57c3a319",
   "metadata": {},
   "outputs": [],
   "source": [
    "def parseTimestamp(timestamp):\n",
    "    try:\n",
    "        return isoparse(timestamp).astimezone(pytz.utc)\n",
    "    except:\n",
    "        return np.nan"
   ]
  },
  {
   "cell_type": "code",
   "execution_count": null,
   "id": "45c3b786",
   "metadata": {},
   "outputs": [],
   "source": [
    "assignmentsDataSubmissionsFilesPath = str(input())"
   ]
  },
  {
   "cell_type": "code",
   "execution_count": null,
   "id": "bcafbe50",
   "metadata": {},
   "outputs": [],
   "source": [
    "assignmentsDataSubmissionsFiles = glob.glob(assignmentsDataSubmissionsFilesPath + dirGen.getDelimiter() + '**' + dirGen.getDelimiter() + '*.csv', recursive=True)"
   ]
  },
  {
   "cell_type": "code",
   "execution_count": null,
   "id": "d3a5b509",
   "metadata": {},
   "outputs": [],
   "source": [
    "assignmentsDataSubmissionsData = pd.DataFrame()\n",
    "for assignmentsDataSubmissionsFile in assignmentsDataSubmissionsFiles:\n",
    "    assignmentsDataSubmissionsData = assignmentsDataSubmissionsData.append(pd.read_csv(assignmentsDataSubmissionsFile), ignore_index = True)\n",
    "    \n",
    "assignmentsDataSubmissionsData"
   ]
  },
  {
   "cell_type": "code",
   "execution_count": null,
   "id": "ddef661f",
   "metadata": {},
   "outputs": [],
   "source": [
    "assignmentsDataSubmissionsData['metadata_event_time'] = assignmentsDataSubmissionsData['metadata_event_time'].apply(parseTimestamp)\n",
    "assignmentsDataSubmissionsData.dropna(subset=['metadata_event_time'], inplace = True)\n",
    "assignmentsDataSubmissionsData = assignmentsDataSubmissionsData.loc[(assignmentsDataSubmissionsData['metadata_event_time'] >= startDate) & (assignmentsDataSubmissionsData['metadata_event_time'] <= endDate)]\n",
    "assignmentsDataSubmissionsData"
   ]
  },
  {
   "cell_type": "code",
   "execution_count": null,
   "id": "771d4729",
   "metadata": {},
   "outputs": [],
   "source": [
    "assignmentInfoData = pd.read_csv(str(input()))\n",
    "assignmentInfoData"
   ]
  },
  {
   "cell_type": "code",
   "execution_count": null,
   "id": "5d8ceaef",
   "metadata": {},
   "outputs": [],
   "source": [
    "#assignmentInfoData.drop(['metadata_event_time', 'body_context_id', 'body_due_at'], axis = 1, inplace = True)\n",
    "#assignmentInfoData"
   ]
  },
  {
   "cell_type": "code",
   "execution_count": null,
   "id": "c56cdb59",
   "metadata": {},
   "outputs": [],
   "source": [
    "assignmentsDataSubmissionsData = assignmentsDataSubmissionsData.merge(assignmentInfoData, on=['metadata_context_id', 'body_assignment_id'])\n",
    "assignmentsDataSubmissionsData"
   ]
  },
  {
   "cell_type": "code",
   "execution_count": null,
   "id": "60ca5147",
   "metadata": {},
   "outputs": [],
   "source": [
    "earliestAssignmentDataSubmissions = assignmentsDataSubmissionsData.drop(['body_submission_id', 'body_submitted_at', 'body_attempt'], axis = 1)\n",
    "earliestAssignmentDataSubmissions"
   ]
  },
  {
   "cell_type": "code",
   "execution_count": null,
   "id": "0c1abb76",
   "metadata": {},
   "outputs": [],
   "source": [
    "earliestAssignmentDataSubmissions = earliestAssignmentDataSubmissions.sort_values(by='metadata_event_time').drop_duplicates(subset=['body_assignment_id', 'metadata_context_id', 'body_user_id'])\n",
    "earliestAssignmentDataSubmissions"
   ]
  },
  {
   "cell_type": "code",
   "execution_count": null,
   "id": "4de6ecad",
   "metadata": {},
   "outputs": [],
   "source": [
    "courseStudentsFilesPath = str(input())"
   ]
  },
  {
   "cell_type": "code",
   "execution_count": null,
   "id": "6d2066ad",
   "metadata": {},
   "outputs": [],
   "source": [
    "courseStudentsFiles = glob.glob(courseStudentsFilesPath + dirGen.getDelimiter() + '**' + dirGen.getDelimiter() + '*.csv', recursive=True)"
   ]
  },
  {
   "cell_type": "code",
   "execution_count": null,
   "id": "91ff275e",
   "metadata": {},
   "outputs": [],
   "source": [
    "courseStudentsData = pd.DataFrame()\n",
    "for courseStudentsFile in courseStudentsFiles:\n",
    "    courseStudentsData = courseStudentsData.append(pd.read_csv(courseStudentsFile), ignore_index = True)\n",
    "    \n",
    "courseStudentsData"
   ]
  },
  {
   "cell_type": "code",
   "execution_count": null,
   "id": "4956a987",
   "metadata": {},
   "outputs": [],
   "source": [
    "courseStudentsData['metadata_event_time'] = courseStudentsData['metadata_event_time'].apply(parseTimestamp)\n",
    "courseStudentsData.dropna(subset=['metadata_event_time'], inplace = True)\n",
    "courseStudentsData = courseStudentsData.loc[(courseStudentsData['metadata_event_time'] >= startDate) & (courseStudentsData['metadata_event_time'] <= endDate)]\n",
    "courseStudentsData"
   ]
  },
  {
   "cell_type": "code",
   "execution_count": null,
   "id": "efb1a26b",
   "metadata": {},
   "outputs": [],
   "source": [
    "courseStudentsData = courseStudentsData.groupby(['metadata_context_id', 'metadata_user_id'])['metadata_event_time'].count().to_frame('total').reset_index()\n",
    "courseStudentsData.drop(['total'], axis = 1, inplace = True)\n",
    "courseStudentsData"
   ]
  },
  {
   "cell_type": "code",
   "execution_count": null,
   "id": "9faa5ebb",
   "metadata": {},
   "outputs": [],
   "source": [
    "courseStudentsData = courseStudentsData.loc[courseStudentsData['metadata_context_id'].isin(assignmentInfoData['metadata_context_id'].unique())]\n",
    "courseStudentsData"
   ]
  },
  {
   "cell_type": "code",
   "execution_count": null,
   "id": "12df6aa0",
   "metadata": {},
   "outputs": [],
   "source": [
    "courseStudentAssignmentsComplete = pd.DataFrame()\n",
    "\n",
    "for course in assignmentInfoData['metadata_context_id'].unique():\n",
    "    courseStudentAssignmentsCompleteCourse = pd.DataFrame({'body_assignment_id': assignmentInfoData.loc[assignmentInfoData['metadata_context_id'] == course]['body_assignment_id'].unique()}).merge(pd.DataFrame({'metadata_user_id': courseStudentsData.loc[courseStudentsData['metadata_context_id'] == course]['metadata_user_id'].unique()}), how = 'cross')\n",
    "    courseStudentAssignmentsCompleteCourse['metadata_context_id'] = course\n",
    "    courseStudentAssignmentsComplete = courseStudentAssignmentsComplete.append(courseStudentAssignmentsCompleteCourse, ignore_index = True)\n",
    "\n",
    "courseStudentAssignmentsComplete"
   ]
  },
  {
   "cell_type": "code",
   "execution_count": null,
   "id": "11067e86",
   "metadata": {},
   "outputs": [],
   "source": [
    "earliestAssignmentDataSubmissionsFirstSubmission = earliestAssignmentDataSubmissions.groupby(['metadata_context_id', 'body_assignment_id'])['metadata_event_time'].min().to_frame('first_submission_time').reset_index()\n",
    "earliestAssignmentDataSubmissionsFirstSubmission"
   ]
  },
  {
   "cell_type": "code",
   "execution_count": null,
   "id": "120d2efe",
   "metadata": {},
   "outputs": [],
   "source": [
    "earliestAssignmentDataSubmissions = earliestAssignmentDataSubmissions.merge(earliestAssignmentDataSubmissionsFirstSubmission, on=['metadata_context_id', 'body_assignment_id'])\n",
    "earliestAssignmentDataSubmissions"
   ]
  },
  {
   "cell_type": "code",
   "execution_count": null,
   "id": "45c63c77",
   "metadata": {},
   "outputs": [],
   "source": [
    "def calculateDelay(df):\n",
    "    return (time.mktime(df['metadata_event_time'].timetuple()) / 3600) - (time.mktime(df['first_submission_time'].timetuple()) / 3600)\n",
    "\n",
    "earliestAssignmentDataSubmissions['delay_assignments'] = earliestAssignmentDataSubmissions.apply(calculateDelay, axis = 1)\n",
    "earliestAssignmentDataSubmissions.drop(['metadata_event_time', 'first_submission_time', 'body_submission_types'], axis = 1, inplace = True)\n",
    "earliestAssignmentDataSubmissions"
   ]
  },
  {
   "cell_type": "code",
   "execution_count": null,
   "id": "d272593f",
   "metadata": {},
   "outputs": [],
   "source": [
    "earliestAssignmentDataSubmissions = courseStudentAssignmentsComplete.rename(columns={'metadata_user_id': 'body_user_id'}).merge(earliestAssignmentDataSubmissions, how='left', on=['body_assignment_id', 'metadata_context_id', 'body_user_id'])\n",
    "earliestAssignmentDataSubmissions"
   ]
  },
  {
   "cell_type": "code",
   "execution_count": null,
   "id": "2d4e4c40",
   "metadata": {},
   "outputs": [],
   "source": [
    "earliestAssignmentDataSubmissions = earliestAssignmentDataSubmissions.fillna(((time.mktime((endDate + timedelta(seconds = 1)).timetuple()) / 3600) - (time.mktime(startDate.timetuple()) / 3600)))\n",
    "earliestAssignmentDataSubmissions"
   ]
  },
  {
   "cell_type": "code",
   "execution_count": null,
   "id": "2eae6677",
   "metadata": {},
   "outputs": [],
   "source": [
    "earliestAssignmentDataSubmissions = earliestAssignmentDataSubmissions.groupby(['metadata_context_id', 'body_user_id'])['delay_assignments'].mean().to_frame('ave_delay').reset_index()\n",
    "earliestAssignmentDataSubmissions"
   ]
  },
  {
   "cell_type": "code",
   "execution_count": null,
   "id": "b6219d06",
   "metadata": {},
   "outputs": [],
   "source": [
    "earliestAssignmentDataSubmissions.rename(columns={\"ave_delay\": \"ave_delay_A\"}).to_csv(\"AssignmentsDelay_Intercession_2022.csv\", header = True, index = False)"
   ]
  },
  {
   "cell_type": "code",
   "execution_count": null,
   "id": "7d86e273",
   "metadata": {},
   "outputs": [],
   "source": []
  }
 ],
 "metadata": {
  "kernelspec": {
   "display_name": "Python 3 (ipykernel)",
   "language": "python",
   "name": "python3"
  },
  "language_info": {
   "codemirror_mode": {
    "name": "ipython",
    "version": 3
   },
   "file_extension": ".py",
   "mimetype": "text/x-python",
   "name": "python",
   "nbconvert_exporter": "python",
   "pygments_lexer": "ipython3",
   "version": "3.8.16"
  }
 },
 "nbformat": 4,
 "nbformat_minor": 5
}

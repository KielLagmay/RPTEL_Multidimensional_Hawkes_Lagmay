{
 "cells": [
  {
   "cell_type": "code",
   "execution_count": null,
   "id": "136fa7a4",
   "metadata": {},
   "outputs": [],
   "source": [
    "import pandas as pd\n",
    "import numpy as np\n",
    "from os import listdir\n",
    "from os import path\n",
    "import pytz\n",
    "import glob\n",
    "import math\n",
    "from dateutil.parser import isoparse\n",
    "from datetime import datetime, timedelta\n",
    "from DirectoryGenerator import DirectoryGenerator"
   ]
  },
  {
   "cell_type": "code",
   "execution_count": null,
   "id": "b91ff538",
   "metadata": {},
   "outputs": [],
   "source": [
    "dirGen = DirectoryGenerator()"
   ]
  },
  {
   "cell_type": "code",
   "execution_count": null,
   "id": "9511eb0b",
   "metadata": {},
   "outputs": [],
   "source": [
    "startDate = datetime.strptime(str(input(\"Start Date (Format: YYYY-MM-DD): \")), \"%Y-%m-%d\").astimezone(pytz.utc)\n",
    "startDate"
   ]
  },
  {
   "cell_type": "code",
   "execution_count": null,
   "id": "2ec76e7f",
   "metadata": {},
   "outputs": [],
   "source": [
    "endDate = datetime.strptime(str(input(\"End Date (Format: YYYY-MM-DD): \")), \"%Y-%m-%d\").astimezone(pytz.utc)\n",
    "endDate"
   ]
  },
  {
   "cell_type": "code",
   "execution_count": null,
   "id": "333eaf6e",
   "metadata": {},
   "outputs": [],
   "source": [
    "totalDays = abs(endDate - startDate).days + 1\n",
    "totalDays"
   ]
  },
  {
   "cell_type": "code",
   "execution_count": null,
   "id": "57c3a319",
   "metadata": {},
   "outputs": [],
   "source": [
    "def parseTimestamp(timestamp):\n",
    "    try:\n",
    "        return isoparse(timestamp).astimezone(pytz.utc)\n",
    "    except:\n",
    "        return np.nan"
   ]
  },
  {
   "cell_type": "code",
   "execution_count": null,
   "id": "45c3b786",
   "metadata": {},
   "outputs": [],
   "source": [
    "assignmentsDataSubmissionsFilesPath = str(input())"
   ]
  },
  {
   "cell_type": "code",
   "execution_count": null,
   "id": "bcafbe50",
   "metadata": {},
   "outputs": [],
   "source": [
    "assignmentsDataSubmissionsFiles = glob.glob(assignmentsDataSubmissionsFilesPath + dirGen.getDelimiter() + '**' + dirGen.getDelimiter() + '*.csv', recursive=True)"
   ]
  },
  {
   "cell_type": "code",
   "execution_count": null,
   "id": "d3a5b509",
   "metadata": {},
   "outputs": [],
   "source": [
    "assignmentsDataSubmissionsData = pd.DataFrame()\n",
    "for assignmentsDataSubmissionsFile in assignmentsDataSubmissionsFiles:\n",
    "    assignmentsDataSubmissionsData = assignmentsDataSubmissionsData.append(pd.read_csv(assignmentsDataSubmissionsFile), ignore_index = True)\n",
    "    \n",
    "assignmentsDataSubmissionsData"
   ]
  },
  {
   "cell_type": "code",
   "execution_count": null,
   "id": "ddef661f",
   "metadata": {},
   "outputs": [],
   "source": [
    "assignmentsDataSubmissionsData['metadata_event_time'] = assignmentsDataSubmissionsData['metadata_event_time'].apply(parseTimestamp)\n",
    "assignmentsDataSubmissionsData.dropna(subset=['metadata_event_time'], inplace = True)\n",
    "assignmentsDataSubmissionsData = assignmentsDataSubmissionsData.loc[(assignmentsDataSubmissionsData['metadata_event_time'] >= startDate) & (assignmentsDataSubmissionsData['metadata_event_time'] <= endDate)]\n",
    "assignmentsDataSubmissionsData"
   ]
  },
  {
   "cell_type": "code",
   "execution_count": null,
   "id": "96a923e5",
   "metadata": {},
   "outputs": [],
   "source": [
    "assignmentsDataSubmissionsData = assignmentsDataSubmissionsData.loc[assignmentsDataSubmissionsData['metadata_context_role'] == 'StudentEnrollment']\n",
    "assignmentsDataSubmissionsData.drop(['body_role', 'body_asset_name', 'collected_at', 'metadata_context_role'], axis = 1, inplace = True)\n",
    "assignmentsDataSubmissionsData = assignmentsDataSubmissionsData.rename(columns = {\"body_asset_id\": \"body_assignment_id\"})\n",
    "assignmentsDataSubmissionsData"
   ]
  },
  {
   "cell_type": "code",
   "execution_count": null,
   "id": "2898ad4a",
   "metadata": {},
   "outputs": [],
   "source": [
    "assignmentsInfoFilesPath = str(input())"
   ]
  },
  {
   "cell_type": "code",
   "execution_count": null,
   "id": "27c081a2",
   "metadata": {},
   "outputs": [],
   "source": [
    "assignmentsInfoFiles = glob.glob(assignmentsInfoFilesPath + dirGen.getDelimiter() + '**' + dirGen.getDelimiter() + '*.csv', recursive=True)"
   ]
  },
  {
   "cell_type": "code",
   "execution_count": null,
   "id": "e252b100",
   "metadata": {},
   "outputs": [],
   "source": [
    "assignmentsInfoData = pd.DataFrame()\n",
    "for assignmentsInfoFile in assignmentsInfoFiles:\n",
    "    assignmentsInfoData = assignmentsInfoData.append(pd.read_csv(assignmentsInfoFile), ignore_index = True)\n",
    "    \n",
    "assignmentsInfoData"
   ]
  },
  {
   "cell_type": "code",
   "execution_count": null,
   "id": "f7f80c6b",
   "metadata": {},
   "outputs": [],
   "source": [
    "assignmentsInfoData['metadata_event_time'] = assignmentsInfoData['metadata_event_time'].apply(isoparse)\n",
    "assignmentsInfoData = assignmentsInfoData.sort_values(by='metadata_event_time').drop_duplicates(subset=['metadata_context_id', 'body_assignment_id', \"body_context_id\"], keep=\"last\").reset_index()\n",
    "assignmentsInfoData"
   ]
  },
  {
   "cell_type": "code",
   "execution_count": null,
   "id": "39e5f666",
   "metadata": {},
   "outputs": [],
   "source": [
    "assignmentsInfoData.groupby(['body_submission_types'])['metadata_event_time'].count().to_frame('total').reset_index()"
   ]
  },
  {
   "cell_type": "code",
   "execution_count": null,
   "id": "e8c7d560",
   "metadata": {},
   "outputs": [],
   "source": [
    "assignmentsInfoData = assignmentsInfoData.loc[~(assignmentsInfoData['body_submission_types'].isin(['none', 'discussion_topic', 'not_graded', 'online_quiz']))]\n",
    "assignmentsInfoData"
   ]
  },
  {
   "cell_type": "code",
   "execution_count": null,
   "id": "6b6e7763",
   "metadata": {
    "scrolled": false
   },
   "outputs": [],
   "source": [
    "#assignmentsInfoData['body_due_at'] = assignmentsInfoData['body_due_at'].apply(parseTimestamp)\n",
    "#assignmentsInfoData['body_lock_at'] = assignmentsInfoData['body_lock_at'].apply(parseTimestamp)\n",
    "#assignmentsInfoData\n",
    "assignmentsInfoData.drop(['body_due_at', 'body_lock_at', 'index', 'metadata_event_time', 'body_context_id'], axis = 1, inplace = True)\n",
    "assignmentsInfoData"
   ]
  },
  {
   "cell_type": "code",
   "execution_count": null,
   "id": "ff3a6b95",
   "metadata": {},
   "outputs": [],
   "source": [
    "'''\n",
    "def fixDueDate(df):\n",
    "    if(pd.isnull(df['body_due_at'])):\n",
    "        if(pd.isnull(df['body_lock_at'])):\n",
    "            return endDate\n",
    "        else:\n",
    "            return df['body_lock_at']\n",
    "    else:\n",
    "        return df['body_due_at']\n",
    "    \n",
    "assignmentsInfoData['body_due_at'] = assignmentsInfoData.apply(fixDueDate, axis = 1)\n",
    "assignmentsInfoData.drop(['body_lock_at', 'index'], axis = 1, inplace = True)\n",
    "assignmentsInfoData\n",
    "'''"
   ]
  },
  {
   "cell_type": "code",
   "execution_count": null,
   "id": "b789163b",
   "metadata": {},
   "outputs": [],
   "source": [
    "#assignmentsInfoData = assignmentsInfoData.loc[(assignmentsInfoData['body_due_at'] >= startDate) & (assignmentsInfoData['body_due_at'] <= endDate)]\n",
    "#assignmentsInfoData"
   ]
  },
  {
   "cell_type": "code",
   "execution_count": null,
   "id": "3da7c565",
   "metadata": {},
   "outputs": [],
   "source": [
    "assignmentsInfoData.to_csv('CourseAssignmentDueDates_Intercession_2022.csv', header = True, index = False)"
   ]
  },
  {
   "cell_type": "code",
   "execution_count": null,
   "id": "08159b09",
   "metadata": {},
   "outputs": [],
   "source": [
    "#assignmentsDataSubmissionsData = assignmentsDataSubmissionsData.merge(assignmentsInfoData[['metadata_context_id', 'body_assignment_id', 'body_due_at']], on=['metadata_context_id', 'body_assignment_id'])\n",
    "assignmentsDataSubmissionsData = assignmentsDataSubmissionsData.merge(assignmentsInfoData, on=['metadata_context_id', 'body_assignment_id'])\n",
    "assignmentsDataSubmissionsData"
   ]
  },
  {
   "cell_type": "code",
   "execution_count": null,
   "id": "1fb405ea",
   "metadata": {},
   "outputs": [],
   "source": [
    "assignmentsDataSubmissionsData['metadata_event_time'] = assignmentsDataSubmissionsData['metadata_event_time'].apply(str)\n",
    "assignmentsDataSubmissionsData"
   ]
  },
  {
   "cell_type": "code",
   "execution_count": null,
   "id": "3246a02b",
   "metadata": {},
   "outputs": [],
   "source": [
    "assignmentsDataSubmissionsData = assignmentsDataSubmissionsData.sort_values(by=['metadata_context_id', 'metadata_user_id', 'metadata_event_time'])\n",
    "assignmentsDataSubmissionsData"
   ]
  },
  {
   "cell_type": "code",
   "execution_count": null,
   "id": "b6219d06",
   "metadata": {},
   "outputs": [],
   "source": [
    "assignmentsDataSubmissionsData.groupby(['metadata_context_id', 'metadata_user_id']).agg({\"metadata_event_time\": list}).reset_index().to_csv(\"AssignmentAccesses_Intercession_2022.csv\", header = True, index = False)"
   ]
  },
  {
   "cell_type": "code",
   "execution_count": null,
   "id": "90a61610",
   "metadata": {},
   "outputs": [],
   "source": []
  }
 ],
 "metadata": {
  "kernelspec": {
   "display_name": "Python 3 (ipykernel)",
   "language": "python",
   "name": "python3"
  },
  "language_info": {
   "codemirror_mode": {
    "name": "ipython",
    "version": 3
   },
   "file_extension": ".py",
   "mimetype": "text/x-python",
   "name": "python",
   "nbconvert_exporter": "python",
   "pygments_lexer": "ipython3",
   "version": "3.8.16"
  }
 },
 "nbformat": 4,
 "nbformat_minor": 5
}

{
 "cells": [
  {
   "cell_type": "code",
   "execution_count": null,
   "id": "e452159b",
   "metadata": {},
   "outputs": [],
   "source": [
    "import pandas as pd\n",
    "import numpy as np\n",
    "from os import listdir\n",
    "from os import path\n",
    "import pytz\n",
    "import glob\n",
    "from dateutil.parser import isoparse\n",
    "from datetime import datetime, timedelta\n",
    "from DirectoryGenerator import DirectoryGenerator"
   ]
  },
  {
   "cell_type": "code",
   "execution_count": null,
   "id": "a6f0000c",
   "metadata": {},
   "outputs": [],
   "source": [
    "dirGen = DirectoryGenerator()"
   ]
  },
  {
   "cell_type": "code",
   "execution_count": null,
   "id": "9db5cf6c",
   "metadata": {},
   "outputs": [],
   "source": [
    "startDate = datetime.strptime(str(input(\"Start Date (Format: YYYY-MM-DD): \")), \"%Y-%m-%d\").astimezone(pytz.utc)\n",
    "startDate"
   ]
  },
  {
   "cell_type": "code",
   "execution_count": null,
   "id": "63606a3f",
   "metadata": {},
   "outputs": [],
   "source": [
    "endDate = datetime.strptime(str(input(\"End Date (Format: YYYY-MM-DD): \")), \"%Y-%m-%d\").astimezone(pytz.utc)\n",
    "endDate"
   ]
  },
  {
   "cell_type": "code",
   "execution_count": null,
   "id": "7ec2dbb5",
   "metadata": {},
   "outputs": [],
   "source": [
    "totalDays = abs(endDate - startDate).days + 1\n",
    "totalDays"
   ]
  },
  {
   "cell_type": "code",
   "execution_count": null,
   "id": "c446a1c0",
   "metadata": {},
   "outputs": [],
   "source": [
    "def parseTimestamp(timestamp):\n",
    "    try:\n",
    "        return isoparse(timestamp).astimezone(pytz.utc)\n",
    "    except:\n",
    "        return np.nan"
   ]
  },
  {
   "cell_type": "code",
   "execution_count": null,
   "id": "e6cfd600",
   "metadata": {},
   "outputs": [],
   "source": [
    "assignmentsDataCommentsFilesPath = str(input())"
   ]
  },
  {
   "cell_type": "code",
   "execution_count": null,
   "id": "3a60275a",
   "metadata": {},
   "outputs": [],
   "source": [
    "assignmentsDataCommentsFiles = glob.glob(assignmentsDataCommentsFilesPath + dirGen.getDelimiter() + '**' + dirGen.getDelimiter() + '*.csv', recursive=True)"
   ]
  },
  {
   "cell_type": "code",
   "execution_count": null,
   "id": "e2913460",
   "metadata": {},
   "outputs": [],
   "source": [
    "assignmentsDataCommentsData = pd.DataFrame()\n",
    "for assignmentsDataCommentsFile in assignmentsDataCommentsFiles:\n",
    "    assignmentsDataCommentsData = assignmentsDataCommentsData.append(pd.read_csv(assignmentsDataCommentsFile), ignore_index = True)\n",
    "    \n",
    "assignmentsDataCommentsData"
   ]
  },
  {
   "cell_type": "code",
   "execution_count": null,
   "id": "345d12e6",
   "metadata": {},
   "outputs": [],
   "source": [
    "assignmentsDataCommentsData['metadata_event_time'] = assignmentsDataCommentsData['metadata_event_time'].apply(parseTimestamp)\n",
    "assignmentsDataCommentsData.dropna(subset=['metadata_event_time'], inplace = True)\n",
    "assignmentsDataCommentsData = assignmentsDataCommentsData.loc[(assignmentsDataCommentsData['metadata_event_time'] >= startDate) & (assignmentsDataCommentsData['metadata_event_time'] <= endDate)]\n",
    "assignmentsDataCommentsData"
   ]
  },
  {
   "cell_type": "code",
   "execution_count": null,
   "id": "c3489481",
   "metadata": {},
   "outputs": [],
   "source": [
    "assignmentsDataSubmissionsFilesPath = str(input())"
   ]
  },
  {
   "cell_type": "code",
   "execution_count": null,
   "id": "ec84e433",
   "metadata": {},
   "outputs": [],
   "source": [
    "assignmentsDataSubmissionsFiles = glob.glob(assignmentsDataSubmissionsFilesPath + dirGen.getDelimiter() + '**' + dirGen.getDelimiter() + '*.csv', recursive=True)"
   ]
  },
  {
   "cell_type": "code",
   "execution_count": null,
   "id": "098beae9",
   "metadata": {},
   "outputs": [],
   "source": [
    "assignmentsDataSubmissionsData = pd.DataFrame()\n",
    "for assignmentsDataSubmissionsFile in assignmentsDataSubmissionsFiles:\n",
    "    assignmentsDataSubmissionsData = assignmentsDataSubmissionsData.append(pd.read_csv(assignmentsDataSubmissionsFile), ignore_index = True)\n",
    "    \n",
    "assignmentsDataSubmissionsData"
   ]
  },
  {
   "cell_type": "code",
   "execution_count": null,
   "id": "530c48e1",
   "metadata": {},
   "outputs": [],
   "source": [
    "assignmentsDataSubmissionsData['metadata_event_time'] = assignmentsDataSubmissionsData['metadata_event_time'].apply(parseTimestamp)\n",
    "assignmentsDataSubmissionsData.dropna(subset=['metadata_event_time'], inplace = True)\n",
    "assignmentsDataSubmissionsData = assignmentsDataSubmissionsData.loc[(assignmentsDataSubmissionsData['metadata_event_time'] >= startDate) & (assignmentsDataSubmissionsData['metadata_event_time'] <= endDate)]\n",
    "assignmentsDataSubmissionsData"
   ]
  },
  {
   "cell_type": "code",
   "execution_count": null,
   "id": "8fa8fb37",
   "metadata": {},
   "outputs": [],
   "source": [
    "assignmentsDataSubmissionsData.drop(['body_submitted_at', 'body_attempt'], axis = 1, inplace = True)\n",
    "assignmentsDataSubmissionsData"
   ]
  },
  {
   "cell_type": "code",
   "execution_count": null,
   "id": "f42598be",
   "metadata": {},
   "outputs": [],
   "source": [
    "assignmentInfoData = pd.read_csv(str(input()))\n",
    "assignmentInfoData"
   ]
  },
  {
   "cell_type": "code",
   "execution_count": null,
   "id": "7f13d582",
   "metadata": {},
   "outputs": [],
   "source": [
    "#assignmentInfoData.drop(['metadata_event_time', 'body_context_id', 'body_due_at'], axis = 1, inplace = True)\n",
    "#assignmentInfoData"
   ]
  },
  {
   "cell_type": "code",
   "execution_count": null,
   "id": "805a6f7d",
   "metadata": {},
   "outputs": [],
   "source": [
    "assignmentsDataSubmissionsData = assignmentsDataSubmissionsData.merge(assignmentInfoData, on = ['metadata_context_id', 'body_assignment_id'])\n",
    "assignmentsDataSubmissionsData"
   ]
  },
  {
   "cell_type": "code",
   "execution_count": null,
   "id": "ff45923c",
   "metadata": {},
   "outputs": [],
   "source": [
    "assignmentsDataCommentsData = assignmentsDataCommentsData.merge(assignmentsDataSubmissionsData[['body_submission_id', 'body_assignment_id', 'metadata_context_id', 'body_user_id']].rename(columns={'body_user_id': 'metadata_user_id'}), on=['body_submission_id', 'metadata_context_id', 'metadata_user_id'])\n",
    "assignmentsDataCommentsData"
   ]
  },
  {
   "cell_type": "code",
   "execution_count": null,
   "id": "edaca1e7",
   "metadata": {},
   "outputs": [],
   "source": [
    "assignmentsDataCommentsData.drop(['body_submission_id', 'submission_comments_count'], axis = 1, inplace = True)\n",
    "assignmentsDataCommentsData"
   ]
  },
  {
   "cell_type": "code",
   "execution_count": null,
   "id": "64f6a3d0",
   "metadata": {},
   "outputs": [],
   "source": [
    "assignmentsDataCommentsData['metadata_event_time'] = assignmentsDataCommentsData['metadata_event_time'].apply(str)\n",
    "assignmentsDataCommentsData"
   ]
  },
  {
   "cell_type": "code",
   "execution_count": null,
   "id": "802344b5",
   "metadata": {},
   "outputs": [],
   "source": [
    "assignmentsDataCommentsData.groupby(['metadata_context_id', 'metadata_user_id']).agg({\"metadata_event_time\": list}).reset_index().to_csv(\"AssignmentComments_Intercession_2022.csv\", header = True, index = False)"
   ]
  },
  {
   "cell_type": "code",
   "execution_count": null,
   "id": "03618d16",
   "metadata": {},
   "outputs": [],
   "source": []
  }
 ],
 "metadata": {
  "kernelspec": {
   "display_name": "Python 3 (ipykernel)",
   "language": "python",
   "name": "python3"
  },
  "language_info": {
   "codemirror_mode": {
    "name": "ipython",
    "version": 3
   },
   "file_extension": ".py",
   "mimetype": "text/x-python",
   "name": "python",
   "nbconvert_exporter": "python",
   "pygments_lexer": "ipython3",
   "version": "3.8.16"
  }
 },
 "nbformat": 4,
 "nbformat_minor": 5
}

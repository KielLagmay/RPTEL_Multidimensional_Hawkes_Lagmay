{
 "cells": [
  {
   "cell_type": "code",
   "execution_count": null,
   "id": "136fa7a4",
   "metadata": {},
   "outputs": [],
   "source": [
    "import pandas as pd\n",
    "import numpy as np\n",
    "from os import listdir\n",
    "from os import path\n",
    "import pytz\n",
    "import glob\n",
    "from dateutil.parser import isoparse\n",
    "from datetime import datetime, timedelta\n",
    "from DirectoryGenerator import DirectoryGenerator"
   ]
  },
  {
   "cell_type": "code",
   "execution_count": null,
   "id": "b91ff538",
   "metadata": {},
   "outputs": [],
   "source": [
    "dirGen = DirectoryGenerator()"
   ]
  },
  {
   "cell_type": "code",
   "execution_count": null,
   "id": "9511eb0b",
   "metadata": {},
   "outputs": [],
   "source": [
    "startDate = datetime.strptime(str(input(\"Start Date (Format: YYYY-MM-DD): \")), \"%Y-%m-%d\").astimezone(pytz.utc)\n",
    "startDate"
   ]
  },
  {
   "cell_type": "code",
   "execution_count": null,
   "id": "2ec76e7f",
   "metadata": {},
   "outputs": [],
   "source": [
    "endDate = datetime.strptime(str(input(\"End Date (Format: YYYY-MM-DD): \")), \"%Y-%m-%d\").astimezone(pytz.utc)\n",
    "endDate"
   ]
  },
  {
   "cell_type": "code",
   "execution_count": null,
   "id": "333eaf6e",
   "metadata": {},
   "outputs": [],
   "source": [
    "totalDays = abs(endDate - startDate).days + 1\n",
    "totalDays"
   ]
  },
  {
   "cell_type": "code",
   "execution_count": null,
   "id": "57c3a319",
   "metadata": {},
   "outputs": [],
   "source": [
    "def parseTimestamp(timestamp):\n",
    "    try:\n",
    "        return isoparse(timestamp).astimezone(pytz.utc)\n",
    "    except:\n",
    "        return np.nan"
   ]
  },
  {
   "cell_type": "code",
   "execution_count": null,
   "id": "45c3b786",
   "metadata": {},
   "outputs": [],
   "source": [
    "discussionForumsDataPostsFilesPath = str(input())"
   ]
  },
  {
   "cell_type": "code",
   "execution_count": null,
   "id": "bcafbe50",
   "metadata": {},
   "outputs": [],
   "source": [
    "discussionForumsDataPostsFiles = glob.glob(discussionForumsDataPostsFilesPath + dirGen.getDelimiter() + '**' + dirGen.getDelimiter() + '*.csv', recursive=True)"
   ]
  },
  {
   "cell_type": "code",
   "execution_count": null,
   "id": "d3a5b509",
   "metadata": {},
   "outputs": [],
   "source": [
    "discussionForumsPostsData = pd.DataFrame()\n",
    "for discussionForumsDataPostsFile in discussionForumsDataPostsFiles:\n",
    "    discussionForumsPostsData = discussionForumsPostsData.append(pd.read_csv(discussionForumsDataPostsFile)[['metadata_event_time', 'metadata_context_id', 'metadata_context_role', 'metadata_user_id', 'body_assignment_id', 'body_discussion_topic_id', 'body_parent_discussion_entry_id']], ignore_index = True)\n",
    "    \n",
    "discussionForumsPostsData"
   ]
  },
  {
   "cell_type": "code",
   "execution_count": null,
   "id": "ddef661f",
   "metadata": {},
   "outputs": [],
   "source": [
    "discussionForumsPostsData['metadata_event_time'] = discussionForumsPostsData['metadata_event_time'].apply(parseTimestamp)\n",
    "discussionForumsPostsData.dropna(subset=['metadata_event_time'], inplace = True)\n",
    "discussionForumsPostsData"
   ]
  },
  {
   "cell_type": "code",
   "execution_count": null,
   "id": "140d88fc",
   "metadata": {},
   "outputs": [],
   "source": [
    "discussionForumsPostsData = discussionForumsPostsData.loc[(discussionForumsPostsData['metadata_event_time'] >= startDate) & (discussionForumsPostsData['metadata_event_time'] <= endDate)]\n",
    "discussionForumsPostsData"
   ]
  },
  {
   "cell_type": "code",
   "execution_count": null,
   "id": "2b96dc54",
   "metadata": {},
   "outputs": [],
   "source": [
    "discussionForumsPostsData = discussionForumsPostsData.loc[discussionForumsPostsData['metadata_context_role'] == 'StudentEnrollment']\n",
    "discussionForumsPostsData.drop(['metadata_context_role'], axis = 1, inplace = True)\n",
    "discussionForumsPostsData"
   ]
  },
  {
   "cell_type": "code",
   "execution_count": null,
   "id": "911540fc",
   "metadata": {},
   "outputs": [],
   "source": [
    "discussionForumsPostsData.drop(['body_parent_discussion_entry_id'], axis = 1, inplace = True)\n",
    "discussionForumsPostsData"
   ]
  },
  {
   "cell_type": "code",
   "execution_count": null,
   "id": "f7f41d6e",
   "metadata": {},
   "outputs": [],
   "source": [
    "def isGradedDiscussionForum(idNum):\n",
    "    try:\n",
    "        return int(str(idNum).split(\"_\")[-1]) > 0\n",
    "    except(AttributeError):\n",
    "        return False\n",
    "    \n",
    "discussionForumsPostsData['is_graded'] = discussionForumsPostsData['body_assignment_id'].apply(isGradedDiscussionForum)\n",
    "discussionForumsPostsData"
   ]
  },
  {
   "cell_type": "code",
   "execution_count": null,
   "id": "dd9f26b0",
   "metadata": {},
   "outputs": [],
   "source": [
    "courseTopicGradedUngradedCheck = discussionForumsPostsData.groupby(['metadata_context_id', 'body_discussion_topic_id', 'is_graded'])['metadata_event_time'].count().to_frame('total').reset_index()\n",
    "courseTopicGradedUngradedCheck"
   ]
  },
  {
   "cell_type": "code",
   "execution_count": null,
   "id": "525267ec",
   "metadata": {},
   "outputs": [],
   "source": [
    "courseTopicGradedUngradedCheck['course_topic'] = courseTopicGradedUngradedCheck['metadata_context_id'] + \"-\" + courseTopicGradedUngradedCheck['body_discussion_topic_id']\n",
    "courseTopicGradedUngradedCheck = courseTopicGradedUngradedCheck.drop(['metadata_context_id', 'body_discussion_topic_id', 'total'], axis = 1)\n",
    "courseTopicGradedUngradedCheck"
   ]
  },
  {
   "cell_type": "code",
   "execution_count": null,
   "id": "37ec14c1",
   "metadata": {},
   "outputs": [],
   "source": [
    "courseTopicGradedUngradedAmbiguous = courseTopicGradedUngradedCheck.groupby(['course_topic'])['is_graded'].count().to_frame('total').reset_index()\n",
    "courseTopicGradedUngradedAmbiguous"
   ]
  },
  {
   "cell_type": "code",
   "execution_count": null,
   "id": "7515b13a",
   "metadata": {},
   "outputs": [],
   "source": [
    "courseTopicGradedUngradedAmbiguous = courseTopicGradedUngradedAmbiguous.loc[courseTopicGradedUngradedAmbiguous['total'] > 1]\n",
    "courseTopicGradedUngradedAmbiguous"
   ]
  },
  {
   "cell_type": "code",
   "execution_count": null,
   "id": "654f1ab8",
   "metadata": {},
   "outputs": [],
   "source": [
    "discussionForumsPostsData['course_topic'] = discussionForumsPostsData['metadata_context_id'] + \"-\" + discussionForumsPostsData['body_discussion_topic_id']\n",
    "discussionForumsPostsData"
   ]
  },
  {
   "cell_type": "code",
   "execution_count": null,
   "id": "995d01c9",
   "metadata": {},
   "outputs": [],
   "source": [
    "discussionForumsPostsData = discussionForumsPostsData.loc[~discussionForumsPostsData['course_topic'].isin(courseTopicGradedUngradedAmbiguous['course_topic'])]\n",
    "discussionForumsPostsData"
   ]
  },
  {
   "cell_type": "code",
   "execution_count": null,
   "id": "7f6f7a60",
   "metadata": {},
   "outputs": [],
   "source": [
    "courseTopicGradedUngradedList = courseTopicGradedUngradedCheck.loc[~(courseTopicGradedUngradedCheck['course_topic'].isin(courseTopicGradedUngradedAmbiguous['course_topic']))]\n",
    "courseTopicGradedUngradedList"
   ]
  },
  {
   "cell_type": "code",
   "execution_count": null,
   "id": "b28def84",
   "metadata": {},
   "outputs": [],
   "source": [
    "courseTopicGradedUngradedList.to_csv(\"CourseTopicGradedUngradedList_Intercession_2022.csv\", header = True, index = False)"
   ]
  },
  {
   "cell_type": "code",
   "execution_count": null,
   "id": "419dc95f",
   "metadata": {},
   "outputs": [],
   "source": [
    "discussionForumsPostsDataUngraded = discussionForumsPostsData.loc[discussionForumsPostsData['is_graded'] == False]\n",
    "discussionForumsPostsDataUngraded"
   ]
  },
  {
   "cell_type": "code",
   "execution_count": null,
   "id": "0b49f02a",
   "metadata": {},
   "outputs": [],
   "source": [
    "discussionForumsPostsDataUngraded.drop(['is_graded'], axis = 1, inplace = True)\n",
    "discussionForumsPostsDataUngraded"
   ]
  },
  {
   "cell_type": "code",
   "execution_count": null,
   "id": "aea41098",
   "metadata": {},
   "outputs": [],
   "source": [
    "discussionForumsPostsDataUngraded['metadata_event_time'] = discussionForumsPostsDataUngraded['metadata_event_time'].apply(str)\n",
    "discussionForumsPostsDataUngraded"
   ]
  },
  {
   "cell_type": "code",
   "execution_count": null,
   "id": "93d23973",
   "metadata": {},
   "outputs": [],
   "source": [
    "discussionForumsPostsDataUngraded = discussionForumsPostsDataUngraded.groupby(['metadata_context_id', 'metadata_user_id'])['metadata_event_time'].apply(list).reset_index()\n",
    "discussionForumsPostsDataUngraded"
   ]
  },
  {
   "cell_type": "code",
   "execution_count": null,
   "id": "42832a96",
   "metadata": {},
   "outputs": [],
   "source": [
    "discussionForumsPostsDataUngraded.to_csv(\"UngradedDiscussionForumsPosts_Intercession_2022.csv\", header = True, index = False)"
   ]
  },
  {
   "cell_type": "code",
   "execution_count": null,
   "id": "98dfb884",
   "metadata": {},
   "outputs": [],
   "source": [
    "discussionForumsPostsDataGraded = discussionForumsPostsData.loc[discussionForumsPostsData['is_graded'] == True]\n",
    "discussionForumsPostsDataGraded.drop(['is_graded'], axis = 1, inplace = True)\n",
    "discussionForumsPostsDataGraded"
   ]
  },
  {
   "cell_type": "code",
   "execution_count": null,
   "id": "5c8a1dca",
   "metadata": {},
   "outputs": [],
   "source": [
    "discussionForumsPostsDataGraded['metadata_event_time'] = discussionForumsPostsDataGraded['metadata_event_time'].apply(str)\n",
    "discussionForumsPostsDataGraded"
   ]
  },
  {
   "cell_type": "code",
   "execution_count": null,
   "id": "5d1101d1",
   "metadata": {},
   "outputs": [],
   "source": [
    "discussionForumsPostsDataGraded = discussionForumsPostsDataGraded.groupby(['metadata_context_id', 'metadata_user_id'])['metadata_event_time'].apply(list).reset_index()\n",
    "discussionForumsPostsDataGraded"
   ]
  },
  {
   "cell_type": "code",
   "execution_count": null,
   "id": "7aca12b3",
   "metadata": {},
   "outputs": [],
   "source": [
    "discussionForumsPostsDataGraded.to_csv(\"GradedDiscussionForumsPosts_Intercession_2022.csv\", header = True, index = False)"
   ]
  },
  {
   "cell_type": "code",
   "execution_count": null,
   "id": "f7d98c41",
   "metadata": {},
   "outputs": [],
   "source": []
  }
 ],
 "metadata": {
  "kernelspec": {
   "display_name": "Python 3 (ipykernel)",
   "language": "python",
   "name": "python3"
  },
  "language_info": {
   "codemirror_mode": {
    "name": "ipython",
    "version": 3
   },
   "file_extension": ".py",
   "mimetype": "text/x-python",
   "name": "python",
   "nbconvert_exporter": "python",
   "pygments_lexer": "ipython3",
   "version": "3.8.16"
  }
 },
 "nbformat": 4,
 "nbformat_minor": 5
}

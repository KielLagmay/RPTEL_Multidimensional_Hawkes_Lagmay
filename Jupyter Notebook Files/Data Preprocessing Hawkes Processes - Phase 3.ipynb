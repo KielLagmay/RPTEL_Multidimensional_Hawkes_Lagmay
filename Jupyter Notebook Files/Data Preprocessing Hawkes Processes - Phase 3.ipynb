{
 "cells": [
  {
   "cell_type": "code",
   "execution_count": null,
   "id": "45b9f1a9",
   "metadata": {},
   "outputs": [],
   "source": [
    "import pandas as pd\n",
    "import numpy as np\n",
    "from os import listdir\n",
    "from os import path\n",
    "import pytz\n",
    "import glob\n",
    "import ast\n",
    "import time\n",
    "import math\n",
    "from dateutil.parser import isoparse\n",
    "from datetime import datetime, timedelta\n",
    "from DirectoryGenerator import DirectoryGenerator"
   ]
  },
  {
   "cell_type": "code",
   "execution_count": null,
   "id": "b4f971fb",
   "metadata": {},
   "outputs": [],
   "source": [
    "def convertToTimestampArray(x):\n",
    "    try:\n",
    "        return [isoparse(d) for d in ast.literal_eval(x)]\n",
    "    except:\n",
    "        return np.nan"
   ]
  },
  {
   "cell_type": "code",
   "execution_count": null,
   "id": "925406ce",
   "metadata": {},
   "outputs": [],
   "source": [
    "dirGen = DirectoryGenerator()"
   ]
  },
  {
   "cell_type": "code",
   "execution_count": null,
   "id": "4d4e1847",
   "metadata": {},
   "outputs": [],
   "source": [
    "courseStudentsFilesPath = str(input())"
   ]
  },
  {
   "cell_type": "code",
   "execution_count": null,
   "id": "891b32ae",
   "metadata": {},
   "outputs": [],
   "source": [
    "courseStudentsFiles = glob.glob(courseStudentsFilesPath + dirGen.getDelimiter() + '**' + dirGen.getDelimiter() + '*.csv', recursive=True)"
   ]
  },
  {
   "cell_type": "code",
   "execution_count": null,
   "id": "4679750a",
   "metadata": {},
   "outputs": [],
   "source": [
    "courseStudentsData = pd.DataFrame()\n",
    "for courseStudentsFile in courseStudentsFiles:\n",
    "    courseStudentsData = courseStudentsData.append(pd.read_csv(courseStudentsFile), ignore_index = True)\n",
    "    \n",
    "courseStudentsData"
   ]
  },
  {
   "cell_type": "code",
   "execution_count": null,
   "id": "c735f5cf",
   "metadata": {},
   "outputs": [],
   "source": [
    "startDate = datetime.strptime(str(input(\"Start Date (Format: YYYY-MM-DD): \")), \"%Y-%m-%d\").astimezone(pytz.utc)\n",
    "startDate"
   ]
  },
  {
   "cell_type": "code",
   "execution_count": null,
   "id": "339d3cb3",
   "metadata": {},
   "outputs": [],
   "source": [
    "endDate = datetime.strptime(str(input(\"End Date (Format: YYYY-MM-DD): \")), \"%Y-%m-%d\").astimezone(pytz.utc)\n",
    "endDate"
   ]
  },
  {
   "cell_type": "code",
   "execution_count": null,
   "id": "ecf459c7",
   "metadata": {},
   "outputs": [],
   "source": [
    "totalDays = abs(endDate - startDate).days + 1\n",
    "totalDays"
   ]
  },
  {
   "cell_type": "code",
   "execution_count": null,
   "id": "c100451a",
   "metadata": {},
   "outputs": [],
   "source": [
    "def parseTimestamp(timestamp):\n",
    "    try:\n",
    "        return isoparse(timestamp).astimezone(pytz.utc)\n",
    "    except:\n",
    "        return np.nan"
   ]
  },
  {
   "cell_type": "code",
   "execution_count": null,
   "id": "cd970381",
   "metadata": {},
   "outputs": [],
   "source": [
    "courseStudentsData['metadata_event_time'] = courseStudentsData['metadata_event_time'].apply(parseTimestamp)\n",
    "courseStudentsData.dropna(subset=['metadata_event_time'], inplace = True)\n",
    "courseStudentsData = courseStudentsData.loc[(courseStudentsData['metadata_event_time'] >= startDate) & (courseStudentsData['metadata_event_time'] <= endDate)]\n",
    "courseStudentsData"
   ]
  },
  {
   "cell_type": "code",
   "execution_count": null,
   "id": "fb8b2654",
   "metadata": {},
   "outputs": [],
   "source": [
    "courseStudentsData = courseStudentsData.groupby(['metadata_context_id', 'metadata_user_id'])['metadata_event_time'].count().to_frame('total').reset_index()\n",
    "courseStudentsData.drop(['total'], axis = 1, inplace = True)\n",
    "courseStudentsData"
   ]
  },
  {
   "cell_type": "code",
   "execution_count": null,
   "id": "182b6866",
   "metadata": {},
   "outputs": [],
   "source": [
    "assignmentSubmissionsData = pd.read_csv(str(input()))\n",
    "assignmentSubmissionsData"
   ]
  },
  {
   "cell_type": "code",
   "execution_count": null,
   "id": "bb7a5b0a",
   "metadata": {},
   "outputs": [],
   "source": [
    "assignmentSubmissionsData['metadata_event_time'] = assignmentSubmissionsData['metadata_event_time'].apply(convertToTimestampArray)\n",
    "assignmentSubmissionsData = assignmentSubmissionsData.rename(columns={'metadata_event_time': 'Asub'})\n",
    "assignmentSubmissionsData"
   ]
  },
  {
   "cell_type": "code",
   "execution_count": null,
   "id": "576c46e6",
   "metadata": {},
   "outputs": [],
   "source": [
    "courseStudentsData = courseStudentsData.merge(assignmentSubmissionsData, how = 'left', on=['metadata_context_id', 'metadata_user_id'])\n",
    "courseStudentsData"
   ]
  },
  {
   "cell_type": "code",
   "execution_count": null,
   "id": "834cd7e9",
   "metadata": {},
   "outputs": [],
   "source": [
    "assignmentAccessesData = pd.read_csv(str(input()))\n",
    "assignmentAccessesData"
   ]
  },
  {
   "cell_type": "code",
   "execution_count": null,
   "id": "cadb6ada",
   "metadata": {},
   "outputs": [],
   "source": [
    "assignmentAccessesData['metadata_event_time'] = assignmentAccessesData['metadata_event_time'].apply(convertToTimestampArray)\n",
    "assignmentAccessesData = assignmentAccessesData.rename(columns={'metadata_event_time': 'Aaccess'})\n",
    "assignmentAccessesData"
   ]
  },
  {
   "cell_type": "code",
   "execution_count": null,
   "id": "a215be24",
   "metadata": {},
   "outputs": [],
   "source": [
    "courseStudentsData = courseStudentsData.merge(assignmentAccessesData, how = 'left', on = ['metadata_context_id', 'metadata_user_id'])\n",
    "courseStudentsData"
   ]
  },
  {
   "cell_type": "code",
   "execution_count": null,
   "id": "10314f8e",
   "metadata": {},
   "outputs": [],
   "source": [
    "#courseAssignmentDueDates = pd.read_csv(str(input()))\n",
    "#courseAssignmentDueDates"
   ]
  },
  {
   "cell_type": "code",
   "execution_count": null,
   "id": "2310e936",
   "metadata": {},
   "outputs": [],
   "source": [
    "#courseAssignmentDueDates['body_due_at'] = courseAssignmentDueDates['body_due_at'].apply(isoparse)\n",
    "#courseAssignmentDueDates = courseAssignmentDueDates.groupby(['metadata_context_id']).agg({'body_due_at': list}).reset_index()\n",
    "#courseAssignmentDueDates"
   ]
  },
  {
   "cell_type": "code",
   "execution_count": null,
   "id": "4935aa0d",
   "metadata": {
    "scrolled": false
   },
   "outputs": [],
   "source": [
    "#courseStudentsData = courseStudentsData.merge(courseAssignmentDueDates, how='left', on=['metadata_context_id'])\n",
    "#courseStudentsData"
   ]
  },
  {
   "cell_type": "code",
   "execution_count": null,
   "id": "c5b2ee86",
   "metadata": {},
   "outputs": [],
   "source": [
    "quizAccessesData = pd.read_csv(str(input()))\n",
    "quizAccessesData"
   ]
  },
  {
   "cell_type": "code",
   "execution_count": null,
   "id": "8dd57ce2",
   "metadata": {},
   "outputs": [],
   "source": [
    "quizAccessesData['metadata_event_time'] = quizAccessesData['metadata_event_time'].apply(convertToTimestampArray)\n",
    "quizAccessesData = quizAccessesData.rename(columns={'metadata_event_time': 'Qaccess'})\n",
    "quizAccessesData"
   ]
  },
  {
   "cell_type": "code",
   "execution_count": null,
   "id": "94cd85d9",
   "metadata": {},
   "outputs": [],
   "source": [
    "courseStudentsData = courseStudentsData.merge(quizAccessesData, how = 'left', on = ['metadata_context_id', 'metadata_user_id'])\n",
    "courseStudentsData"
   ]
  },
  {
   "cell_type": "code",
   "execution_count": null,
   "id": "6f50719c",
   "metadata": {},
   "outputs": [],
   "source": [
    "quizSubmissionData = pd.read_csv(str(input()))\n",
    "quizSubmissionData"
   ]
  },
  {
   "cell_type": "code",
   "execution_count": null,
   "id": "7e8dd9af",
   "metadata": {},
   "outputs": [],
   "source": [
    "quizSubmissionData['metadata_event_time'] = quizSubmissionData['metadata_event_time'].apply(convertToTimestampArray)\n",
    "quizSubmissionData = quizSubmissionData.rename(columns={'metadata_event_time': 'Qsub', 'body_user_id': 'metadata_user_id'})\n",
    "quizSubmissionData"
   ]
  },
  {
   "cell_type": "code",
   "execution_count": null,
   "id": "cc5338f2",
   "metadata": {},
   "outputs": [],
   "source": [
    "courseStudentsData = courseStudentsData.merge(quizSubmissionData, how = 'left', on = ['metadata_context_id', 'metadata_user_id'])\n",
    "courseStudentsData"
   ]
  },
  {
   "cell_type": "code",
   "execution_count": null,
   "id": "68ec0f10",
   "metadata": {},
   "outputs": [],
   "source": [
    "discussionForumSubmissionGradedData = pd.read_csv(str(input()))\n",
    "discussionForumSubmissionGradedData"
   ]
  },
  {
   "cell_type": "code",
   "execution_count": null,
   "id": "d543d203",
   "metadata": {},
   "outputs": [],
   "source": [
    "discussionForumSubmissionGradedData['metadata_event_time'] = discussionForumSubmissionGradedData['metadata_event_time'].apply(convertToTimestampArray)\n",
    "discussionForumSubmissionGradedData = discussionForumSubmissionGradedData.rename(columns={'metadata_event_time': 'GDsub'})\n",
    "discussionForumSubmissionGradedData"
   ]
  },
  {
   "cell_type": "code",
   "execution_count": null,
   "id": "f7aa27cb",
   "metadata": {},
   "outputs": [],
   "source": [
    "courseStudentsData = courseStudentsData.merge(discussionForumSubmissionGradedData, how = 'left', on = ['metadata_context_id', 'metadata_user_id'])\n",
    "courseStudentsData"
   ]
  },
  {
   "cell_type": "code",
   "execution_count": null,
   "id": "29a6b741",
   "metadata": {},
   "outputs": [],
   "source": [
    "discussionForumAccessGradedData = pd.read_csv(str(input()))\n",
    "discussionForumAccessGradedData"
   ]
  },
  {
   "cell_type": "code",
   "execution_count": null,
   "id": "504af723",
   "metadata": {},
   "outputs": [],
   "source": [
    "discussionForumAccessGradedData['metadata_event_time'] = discussionForumAccessGradedData['metadata_event_time'].apply(convertToTimestampArray)\n",
    "discussionForumAccessGradedData = discussionForumAccessGradedData.rename(columns={'metadata_event_time': 'GDaccess'})\n",
    "discussionForumAccessGradedData"
   ]
  },
  {
   "cell_type": "code",
   "execution_count": null,
   "id": "a241a16b",
   "metadata": {},
   "outputs": [],
   "source": [
    "courseStudentsData = courseStudentsData.merge(discussionForumAccessGradedData, how = 'left', on=['metadata_context_id', 'metadata_user_id'])\n",
    "courseStudentsData"
   ]
  },
  {
   "cell_type": "code",
   "execution_count": null,
   "id": "74c55608",
   "metadata": {},
   "outputs": [],
   "source": [
    "def mergeAndSortTimestamps(df, columns):\n",
    "    aggregatedTimestamps = []\n",
    "    for column in columns:\n",
    "        try:\n",
    "            aggregatedTimestamps = aggregatedTimestamps + [float(math.floor((time.mktime(d.timetuple()) / 3600) - (time.mktime(startDate.timetuple()) / 3600))) for d in list(df[column])]\n",
    "        except TypeError:\n",
    "            aggregatedTimestamps = aggregatedTimestamps + []\n",
    "    return sorted(aggregatedTimestamps)"
   ]
  },
  {
   "cell_type": "code",
   "execution_count": null,
   "id": "43ec7a59",
   "metadata": {},
   "outputs": [],
   "source": [
    "#courseStudentsData['A'] = courseStudentsData.apply(lambda df: mergeAndSortTimestamps(df, ['Asub', 'Aaccess', 'body_due_at', 'Qaccess', 'Qsub', 'GDsub', 'GDaccess']), axis = 1)\n",
    "courseStudentsData['A'] = courseStudentsData.apply(lambda df: mergeAndSortTimestamps(df, ['Asub', 'Aaccess', 'Qaccess', 'Qsub', 'GDsub', 'GDaccess']), axis = 1)\n",
    "courseStudentsData = courseStudentsData[['metadata_context_id', 'metadata_user_id', 'A']]\n",
    "courseStudentsData"
   ]
  },
  {
   "cell_type": "code",
   "execution_count": null,
   "id": "c13cbdef",
   "metadata": {},
   "outputs": [],
   "source": [
    "courseStudentsData['hasA'] = courseStudentsData['A'].apply(lambda x: len(x) > 0)\n",
    "courseStudentsData"
   ]
  },
  {
   "cell_type": "code",
   "execution_count": null,
   "id": "71bf518d",
   "metadata": {},
   "outputs": [],
   "source": [
    "courseStudentsData = courseStudentsData.loc[courseStudentsData['hasA'] == True]\n",
    "courseStudentsData.drop(['hasA'], axis = 1, inplace = True)\n",
    "courseStudentsData"
   ]
  },
  {
   "cell_type": "code",
   "execution_count": null,
   "id": "68a75265",
   "metadata": {},
   "outputs": [],
   "source": [
    "discussionForumSubmissionUngradedData = pd.read_csv(str(input()))\n",
    "discussionForumSubmissionUngradedData"
   ]
  },
  {
   "cell_type": "code",
   "execution_count": null,
   "id": "1b3dcf5f",
   "metadata": {},
   "outputs": [],
   "source": [
    "discussionForumSubmissionUngradedData['metadata_event_time'] = discussionForumSubmissionUngradedData['metadata_event_time'].apply(convertToTimestampArray)\n",
    "discussionForumSubmissionUngradedData = discussionForumSubmissionUngradedData.rename(columns={'metadata_event_time': 'UDsub'})\n",
    "discussionForumSubmissionUngradedData"
   ]
  },
  {
   "cell_type": "code",
   "execution_count": null,
   "id": "c87bd387",
   "metadata": {},
   "outputs": [],
   "source": [
    "courseStudentsData = courseStudentsData.merge(discussionForumSubmissionUngradedData, how = 'left', on = ['metadata_context_id', 'metadata_user_id'])\n",
    "courseStudentsData"
   ]
  },
  {
   "cell_type": "code",
   "execution_count": null,
   "id": "fe540932",
   "metadata": {},
   "outputs": [],
   "source": [
    "discussionForumAccessUngradedData = pd.read_csv(str(input()))\n",
    "discussionForumAccessUngradedData"
   ]
  },
  {
   "cell_type": "code",
   "execution_count": null,
   "id": "2d793d42",
   "metadata": {},
   "outputs": [],
   "source": [
    "discussionForumAccessUngradedData['metadata_event_time'] = discussionForumAccessUngradedData['metadata_event_time'].apply(convertToTimestampArray)\n",
    "discussionForumAccessUngradedData = discussionForumAccessUngradedData.rename(columns={'metadata_event_time': 'UDaccess'})\n",
    "discussionForumAccessUngradedData"
   ]
  },
  {
   "cell_type": "code",
   "execution_count": null,
   "id": "2d8bc84c",
   "metadata": {},
   "outputs": [],
   "source": [
    "courseStudentsData = courseStudentsData.merge(discussionForumAccessUngradedData, how = 'left', on=['metadata_context_id', 'metadata_user_id'])\n",
    "courseStudentsData"
   ]
  },
  {
   "cell_type": "code",
   "execution_count": null,
   "id": "b0720f7d",
   "metadata": {},
   "outputs": [],
   "source": [
    "commentsData = pd.read_csv(str(input()))\n",
    "commentsData"
   ]
  },
  {
   "cell_type": "code",
   "execution_count": null,
   "id": "d945d689",
   "metadata": {},
   "outputs": [],
   "source": [
    "commentsData['metadata_event_time'] = commentsData['metadata_event_time'].apply(convertToTimestampArray)\n",
    "commentsData = commentsData.rename(columns={'metadata_event_time': 'C'})\n",
    "commentsData"
   ]
  },
  {
   "cell_type": "code",
   "execution_count": null,
   "id": "9ccffc8b",
   "metadata": {},
   "outputs": [],
   "source": [
    "courseStudentsData = courseStudentsData.merge(commentsData, how = 'left', on=['metadata_context_id', 'metadata_user_id'])\n",
    "courseStudentsData"
   ]
  },
  {
   "cell_type": "code",
   "execution_count": null,
   "id": "319b6f92",
   "metadata": {},
   "outputs": [],
   "source": [
    "courseStudentsData['C'] = courseStudentsData.apply(lambda df: mergeAndSortTimestamps(df, ['UDsub', 'UDaccess', 'C']), axis = 1)\n",
    "courseStudentsData = courseStudentsData[['metadata_context_id', 'metadata_user_id', 'A', 'C']]\n",
    "courseStudentsData"
   ]
  },
  {
   "cell_type": "code",
   "execution_count": null,
   "id": "dd5c36f2",
   "metadata": {},
   "outputs": [],
   "source": [
    "courseStudentsData['hasC'] = courseStudentsData['C'].apply(lambda x: len(x) > 0)\n",
    "courseStudentsData"
   ]
  },
  {
   "cell_type": "code",
   "execution_count": null,
   "id": "cdc79942",
   "metadata": {},
   "outputs": [],
   "source": [
    "courseStudentsData = courseStudentsData.loc[courseStudentsData['hasC'] == True]\n",
    "courseStudentsData.drop(['hasC'], axis = 1, inplace = True)\n",
    "courseStudentsData"
   ]
  },
  {
   "cell_type": "code",
   "execution_count": null,
   "id": "b390a3db",
   "metadata": {},
   "outputs": [],
   "source": [
    "lessonAccesses = pd.read_csv(str(input()))\n",
    "lessonAccesses"
   ]
  },
  {
   "cell_type": "code",
   "execution_count": null,
   "id": "33a47372",
   "metadata": {},
   "outputs": [],
   "source": [
    "lessonAccesses['metadata_event_time'] = lessonAccesses['metadata_event_time'].apply(convertToTimestampArray)\n",
    "lessonAccesses"
   ]
  },
  {
   "cell_type": "code",
   "execution_count": null,
   "id": "80951b7c",
   "metadata": {},
   "outputs": [],
   "source": [
    "lessonAccesses['metadata_event_time'] = lessonAccesses.apply(lambda df: mergeAndSortTimestamps(df, ['metadata_event_time']), axis = 1)\n",
    "lessonAccesses = lessonAccesses.rename(columns={'metadata_event_time': 'L'})\n",
    "lessonAccesses"
   ]
  },
  {
   "cell_type": "code",
   "execution_count": null,
   "id": "06ca7bbb",
   "metadata": {},
   "outputs": [],
   "source": [
    "courseStudentsData = courseStudentsData.merge(lessonAccesses, on = ['metadata_context_id', 'metadata_user_id'])\n",
    "courseStudentsData"
   ]
  },
  {
   "cell_type": "code",
   "execution_count": null,
   "id": "369cd0d0",
   "metadata": {},
   "outputs": [],
   "source": [
    "#courseStudentsData = courseStudentsData.merge(courseAssignmentDueDates, on = ['metadata_context_id'])\n",
    "#courseStudentsData"
   ]
  },
  {
   "cell_type": "code",
   "execution_count": null,
   "id": "87b465d3",
   "metadata": {},
   "outputs": [],
   "source": [
    "#courseStudentsData = courseStudentsData.rename(columns = {'body_due_at': 'D'})\n",
    "#courseStudentsData"
   ]
  },
  {
   "cell_type": "code",
   "execution_count": null,
   "id": "b5893f5d",
   "metadata": {},
   "outputs": [],
   "source": [
    "#courseStudentsData['D'] = courseStudentsData.apply(lambda df: mergeAndSortTimestamps(df, ['D']), axis = 1)\n",
    "#courseStudentsData"
   ]
  },
  {
   "cell_type": "code",
   "execution_count": null,
   "id": "8fecd412",
   "metadata": {},
   "outputs": [],
   "source": [
    "assignmentDelays = pd.read_csv(str(input()))\n",
    "assignmentDelays"
   ]
  },
  {
   "cell_type": "code",
   "execution_count": null,
   "id": "9cef5950",
   "metadata": {},
   "outputs": [],
   "source": [
    "courseStudentsData = courseStudentsData.merge(assignmentDelays.rename(columns={\"body_user_id\": \"metadata_user_id\"}), how = 'left', on=['metadata_context_id', 'metadata_user_id'])\n",
    "courseStudentsData"
   ]
  },
  {
   "cell_type": "code",
   "execution_count": null,
   "id": "5c607be7",
   "metadata": {},
   "outputs": [],
   "source": [
    "gradedDiscussionForumDelays = pd.read_csv(str(input()))\n",
    "gradedDiscussionForumDelays"
   ]
  },
  {
   "cell_type": "code",
   "execution_count": null,
   "id": "46802664",
   "metadata": {},
   "outputs": [],
   "source": [
    "courseStudentsData = courseStudentsData.merge(gradedDiscussionForumDelays, how = 'left', on=['metadata_context_id', 'metadata_user_id'])\n",
    "courseStudentsData"
   ]
  },
  {
   "cell_type": "code",
   "execution_count": null,
   "id": "2e40d512",
   "metadata": {},
   "outputs": [],
   "source": [
    "quizzesDelays = pd.read_csv(str(input()))\n",
    "quizzesDelays"
   ]
  },
  {
   "cell_type": "code",
   "execution_count": null,
   "id": "ae2c432d",
   "metadata": {},
   "outputs": [],
   "source": [
    "courseStudentsData = courseStudentsData.merge(quizzesDelays, how = 'left', on=['metadata_context_id', 'metadata_user_id'])\n",
    "courseStudentsData"
   ]
  },
  {
   "cell_type": "code",
   "execution_count": null,
   "id": "684b59e4",
   "metadata": {},
   "outputs": [],
   "source": [
    "def averageDelays(df, columns):\n",
    "    result = []\n",
    "    for column in columns:\n",
    "        if not math.isnan(df[column]):\n",
    "            result.append(df[column])\n",
    "    if(len(result) > 0):\n",
    "        return float(np.mean(result))\n",
    "    else:\n",
    "        return np.nan\n",
    "\n",
    "courseStudentsData['ave_delay_graded'] = courseStudentsData.apply(lambda df: averageDelays(df, ['ave_delay_' + dim for dim in ['A', 'GD', 'Q']]), axis = 1)\n",
    "courseStudentsData.drop(['ave_delay_' + dim for dim in ['A', 'GD', 'Q']], axis = 1, inplace = True)\n",
    "courseStudentsData"
   ]
  },
  {
   "cell_type": "code",
   "execution_count": null,
   "id": "663205be",
   "metadata": {},
   "outputs": [],
   "source": [
    "ungradedDiscussionForumDelays = pd.read_csv(str(input()))\n",
    "ungradedDiscussionForumDelays"
   ]
  },
  {
   "cell_type": "code",
   "execution_count": null,
   "id": "4d195f60",
   "metadata": {},
   "outputs": [],
   "source": [
    "courseStudentsData = courseStudentsData.merge(ungradedDiscussionForumDelays, how = 'left', on=['metadata_context_id', 'metadata_user_id'])\n",
    "courseStudentsData"
   ]
  },
  {
   "cell_type": "code",
   "execution_count": null,
   "id": "63852406",
   "metadata": {},
   "outputs": [],
   "source": [
    "commentsDelays = pd.read_csv(str(input()))\n",
    "commentsDelays"
   ]
  },
  {
   "cell_type": "code",
   "execution_count": null,
   "id": "829aa8f6",
   "metadata": {},
   "outputs": [],
   "source": [
    "courseStudentsData = courseStudentsData.merge(commentsDelays, how = 'left', on=['metadata_context_id', 'metadata_user_id'])\n",
    "courseStudentsData"
   ]
  },
  {
   "cell_type": "code",
   "execution_count": null,
   "id": "efc8443e",
   "metadata": {},
   "outputs": [],
   "source": [
    "courseStudentsData['ave_delay_ungraded'] = courseStudentsData.apply(lambda df: averageDelays(df, ['ave_delay_' + dim for dim in ['C', 'UD']]), axis = 1)\n",
    "courseStudentsData.drop(['ave_delay_' + dim for dim in ['C', 'UD']], axis = 1, inplace = True)\n",
    "courseStudentsData"
   ]
  },
  {
   "cell_type": "code",
   "execution_count": null,
   "id": "5c02f360",
   "metadata": {},
   "outputs": [],
   "source": [
    "lessonsDelays = pd.read_csv(str(input()))\n",
    "lessonsDelays"
   ]
  },
  {
   "cell_type": "code",
   "execution_count": null,
   "id": "8c9f88d0",
   "metadata": {},
   "outputs": [],
   "source": [
    "courseStudentsData = courseStudentsData.merge(lessonsDelays, how = 'left', on=['metadata_context_id', 'metadata_user_id'])\n",
    "courseStudentsData"
   ]
  },
  {
   "cell_type": "code",
   "execution_count": null,
   "id": "96f7bd1f",
   "metadata": {},
   "outputs": [],
   "source": [
    "courseStudentGrades = pd.read_csv(str(input()))\n",
    "courseStudentGrades"
   ]
  },
  {
   "cell_type": "code",
   "execution_count": null,
   "id": "1a403a6b",
   "metadata": {},
   "outputs": [],
   "source": [
    "courseStudentGrades = courseStudentGrades.loc[courseStudentGrades['est_course_grade'] > 0]\n",
    "courseStudentGrades"
   ]
  },
  {
   "cell_type": "code",
   "execution_count": null,
   "id": "ee95e310",
   "metadata": {},
   "outputs": [],
   "source": [
    "courseStudentGrades['est_course_grade'] = courseStudentGrades['est_course_grade'].apply(lambda grade: float(math.floor(grade)))\n",
    "courseStudentGrades"
   ]
  },
  {
   "cell_type": "code",
   "execution_count": null,
   "id": "81d6f353",
   "metadata": {},
   "outputs": [],
   "source": [
    "courseStudentsData = courseStudentsData.merge(courseStudentGrades, on=['metadata_context_id', 'metadata_user_id'])\n",
    "courseStudentsData"
   ]
  },
  {
   "cell_type": "code",
   "execution_count": null,
   "id": "1f085f6b",
   "metadata": {},
   "outputs": [],
   "source": [
    "courseModalities = pd.read_csv(str(input()))\n",
    "courseModalities"
   ]
  },
  {
   "cell_type": "code",
   "execution_count": null,
   "id": "74799770",
   "metadata": {},
   "outputs": [],
   "source": [
    "courseModalities = courseModalities.loc[~(courseModalities['Modality'] == '(~)')]\n",
    "courseModalities['short_name'] = courseModalities['Subject Code'] + \"-\" + courseModalities['Section']\n",
    "courseModalities.drop(['Subject Code', 'Section', 'Department', 'School'], axis = 1, inplace = True)\n",
    "courseModalities"
   ]
  },
  {
   "cell_type": "code",
   "execution_count": null,
   "id": "c6697057",
   "metadata": {},
   "outputs": [],
   "source": [
    "courseModalities['Modality'] = courseModalities['Modality'].apply(lambda modality: modality if modality in ['(FULLY ONLINE)', '(FULLY ONSITE)'] else '(HYBRID)')\n",
    "courseModalities"
   ]
  },
  {
   "cell_type": "code",
   "execution_count": null,
   "id": "d58b4156",
   "metadata": {},
   "outputs": [],
   "source": [
    "courseList = pd.read_csv(str(input()))\n",
    "courseList"
   ]
  },
  {
   "cell_type": "code",
   "execution_count": null,
   "id": "59acac66",
   "metadata": {},
   "outputs": [],
   "source": [
    "courseList = courseList[['canvas_course_id', 'short_name']]\n",
    "courseList['canvas_course_id'] = courseList['canvas_course_id'].apply(lambda x: 'id_' + str(int(x) + 165820000000000000))\n",
    "courseList"
   ]
  },
  {
   "cell_type": "code",
   "execution_count": null,
   "id": "f487f524",
   "metadata": {},
   "outputs": [],
   "source": [
    "courseModalities = courseList.merge(courseModalities, on=['short_name'])\n",
    "courseModalities"
   ]
  },
  {
   "cell_type": "code",
   "execution_count": null,
   "id": "0ad04ceb",
   "metadata": {},
   "outputs": [],
   "source": [
    "courseModalities = courseModalities.rename(columns={'canvas_course_id': 'metadata_context_id'})\n",
    "courseModalities"
   ]
  },
  {
   "cell_type": "code",
   "execution_count": null,
   "id": "95eb404e",
   "metadata": {},
   "outputs": [],
   "source": [
    "courseModalities = courseModalities.loc[~(courseModalities['Modality'] == '(FULLY ONSITE)')]\n",
    "courseModalities"
   ]
  },
  {
   "cell_type": "code",
   "execution_count": null,
   "id": "b66d41df",
   "metadata": {},
   "outputs": [],
   "source": [
    "courseModalities = courseModalities.loc[courseModalities['metadata_context_id'].isin(courseStudentsData['metadata_context_id'].unique())]\n",
    "courseModalities"
   ]
  },
  {
   "cell_type": "code",
   "execution_count": null,
   "id": "4b3622d1",
   "metadata": {},
   "outputs": [],
   "source": [
    "courseModalities.groupby(['Modality'])['metadata_context_id'].count().to_frame('total_classes').reset_index()"
   ]
  },
  {
   "cell_type": "code",
   "execution_count": null,
   "id": "3d83de16",
   "metadata": {},
   "outputs": [],
   "source": [
    "courseModalities['course_code'] = courseModalities['short_name'].apply(lambda x: x.split(\"-\")[0])\n",
    "courseModalities.drop(['short_name'], axis = 1, inplace = True)\n",
    "courseModalities"
   ]
  },
  {
   "cell_type": "code",
   "execution_count": null,
   "id": "4a7f2bc3",
   "metadata": {},
   "outputs": [],
   "source": [
    "courseModalitiesCount = courseModalities.groupby(['course_code', 'Modality'])['metadata_context_id'].count().to_frame('total_classes').reset_index()\n",
    "courseModalitiesCount"
   ]
  },
  {
   "cell_type": "code",
   "execution_count": null,
   "id": "f04f4166",
   "metadata": {},
   "outputs": [],
   "source": [
    "courseModalitiesCount = courseModalitiesCount.pivot(columns = 'Modality', index='course_code', values='total_classes').reset_index()\n",
    "courseModalitiesCount"
   ]
  },
  {
   "cell_type": "code",
   "execution_count": null,
   "id": "fbbd8f1b",
   "metadata": {},
   "outputs": [],
   "source": [
    "courseModalitiesCount = courseModalitiesCount.dropna()\n",
    "courseModalitiesCount"
   ]
  },
  {
   "cell_type": "code",
   "execution_count": null,
   "id": "1805a1ff",
   "metadata": {},
   "outputs": [],
   "source": [
    "courseModalities = courseModalities.loc[courseModalities['course_code'].isin(courseModalitiesCount['course_code'].unique())]\n",
    "courseModalities"
   ]
  },
  {
   "cell_type": "code",
   "execution_count": null,
   "id": "89162be9",
   "metadata": {},
   "outputs": [],
   "source": [
    "courseStudentsData = courseStudentsData.merge(courseModalities, on=['metadata_context_id'])\n",
    "courseStudentsData"
   ]
  },
  {
   "cell_type": "code",
   "execution_count": null,
   "id": "ae57f112",
   "metadata": {},
   "outputs": [],
   "source": [
    "courseStudentsData.to_csv(\"HawkesProcessesInput_Intercession_2022.csv\", header = True, index = False)"
   ]
  },
  {
   "cell_type": "code",
   "execution_count": null,
   "id": "4db0b690",
   "metadata": {},
   "outputs": [],
   "source": []
  }
 ],
 "metadata": {
  "kernelspec": {
   "display_name": "Python 3 (ipykernel)",
   "language": "python",
   "name": "python3"
  },
  "language_info": {
   "codemirror_mode": {
    "name": "ipython",
    "version": 3
   },
   "file_extension": ".py",
   "mimetype": "text/x-python",
   "name": "python",
   "nbconvert_exporter": "python",
   "pygments_lexer": "ipython3",
   "version": "3.8.16"
  }
 },
 "nbformat": 4,
 "nbformat_minor": 5
}

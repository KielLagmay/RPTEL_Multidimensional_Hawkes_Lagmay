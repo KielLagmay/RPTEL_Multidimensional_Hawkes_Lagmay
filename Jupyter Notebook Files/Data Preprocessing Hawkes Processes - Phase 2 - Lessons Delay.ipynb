{
 "cells": [
  {
   "cell_type": "code",
   "execution_count": null,
   "id": "136fa7a4",
   "metadata": {},
   "outputs": [],
   "source": [
    "import pandas as pd\n",
    "import numpy as np\n",
    "from os import listdir\n",
    "from os import path\n",
    "import pytz\n",
    "import glob\n",
    "from dateutil.parser import isoparse\n",
    "from datetime import datetime, timedelta\n",
    "import math\n",
    "import time\n",
    "from DirectoryGenerator import DirectoryGenerator"
   ]
  },
  {
   "cell_type": "code",
   "execution_count": null,
   "id": "b91ff538",
   "metadata": {},
   "outputs": [],
   "source": [
    "dirGen = DirectoryGenerator()"
   ]
  },
  {
   "cell_type": "code",
   "execution_count": null,
   "id": "9511eb0b",
   "metadata": {},
   "outputs": [],
   "source": [
    "startDate = datetime.strptime(str(input(\"Start Date (Format: YYYY-MM-DD): \")), \"%Y-%m-%d\").astimezone(pytz.utc)\n",
    "startDate"
   ]
  },
  {
   "cell_type": "code",
   "execution_count": null,
   "id": "2ec76e7f",
   "metadata": {},
   "outputs": [],
   "source": [
    "endDate = datetime.strptime(str(input(\"End Date (Format: YYYY-MM-DD): \")), \"%Y-%m-%d\").astimezone(pytz.utc)\n",
    "endDate"
   ]
  },
  {
   "cell_type": "code",
   "execution_count": null,
   "id": "333eaf6e",
   "metadata": {},
   "outputs": [],
   "source": [
    "totalDays = abs(endDate - startDate).days + 1\n",
    "totalDays"
   ]
  },
  {
   "cell_type": "code",
   "execution_count": null,
   "id": "57c3a319",
   "metadata": {},
   "outputs": [],
   "source": [
    "def parseTimestamp(timestamp):\n",
    "    try:\n",
    "        return isoparse(timestamp).astimezone(pytz.utc)\n",
    "    except:\n",
    "        return np.nan"
   ]
  },
  {
   "cell_type": "code",
   "execution_count": null,
   "id": "aee8531b",
   "metadata": {},
   "outputs": [],
   "source": [
    "assignmentsDataSubmissionsFilesPath = str(input())"
   ]
  },
  {
   "cell_type": "code",
   "execution_count": null,
   "id": "7a22cb27",
   "metadata": {},
   "outputs": [],
   "source": [
    "assignmentsDataSubmissionsFiles = glob.glob(assignmentsDataSubmissionsFilesPath + dirGen.getDelimiter() + '**' + dirGen.getDelimiter() + '*.csv', recursive=True)"
   ]
  },
  {
   "cell_type": "code",
   "execution_count": null,
   "id": "55dce5ec",
   "metadata": {},
   "outputs": [],
   "source": [
    "assignmentsDataSubmissionsData = pd.DataFrame()\n",
    "for assignmentsDataSubmissionsFile in assignmentsDataSubmissionsFiles:\n",
    "    assignmentsDataSubmissionsData = assignmentsDataSubmissionsData.append(pd.read_csv(assignmentsDataSubmissionsFile), ignore_index = True)\n",
    "    \n",
    "assignmentsDataSubmissionsData"
   ]
  },
  {
   "cell_type": "code",
   "execution_count": null,
   "id": "046403bb",
   "metadata": {},
   "outputs": [],
   "source": [
    "assignmentsDataSubmissionsData = assignmentsDataSubmissionsData[['metadata_event_time', 'metadata_context_id', 'metadata_context_role', 'metadata_user_id', 'body_asset_id']]\n",
    "assignmentsDataSubmissionsData"
   ]
  },
  {
   "cell_type": "code",
   "execution_count": null,
   "id": "51397d8d",
   "metadata": {},
   "outputs": [],
   "source": [
    "assignmentsDataSubmissionsData['metadata_event_time'] = assignmentsDataSubmissionsData['metadata_event_time'].apply(parseTimestamp)\n",
    "assignmentsDataSubmissionsData.dropna(subset=['metadata_event_time'], inplace = True)\n",
    "assignmentsDataSubmissionsData = assignmentsDataSubmissionsData.loc[(assignmentsDataSubmissionsData['metadata_event_time'] >= startDate) & (assignmentsDataSubmissionsData['metadata_event_time'] <= endDate)]\n",
    "assignmentsDataSubmissionsData"
   ]
  },
  {
   "cell_type": "code",
   "execution_count": null,
   "id": "cefd95fb",
   "metadata": {},
   "outputs": [],
   "source": [
    "assignmentsDataSubmissionsData = assignmentsDataSubmissionsData.loc[assignmentsDataSubmissionsData['metadata_context_role'] == 'StudentEnrollment']\n",
    "assignmentsDataSubmissionsData.drop(['metadata_context_role'], axis = 1, inplace = True)\n",
    "assignmentsDataSubmissionsData"
   ]
  },
  {
   "cell_type": "code",
   "execution_count": null,
   "id": "b222f060",
   "metadata": {},
   "outputs": [],
   "source": [
    "courseLessonMaterials = assignmentsDataSubmissionsData.groupby(['metadata_context_id', 'body_asset_id'])['metadata_event_time'].count().to_frame('total').reset_index()\n",
    "courseLessonMaterials"
   ]
  },
  {
   "cell_type": "code",
   "execution_count": null,
   "id": "c8632a6d",
   "metadata": {},
   "outputs": [],
   "source": [
    "courseStudentsFilesPath = str(input())"
   ]
  },
  {
   "cell_type": "code",
   "execution_count": null,
   "id": "1373ce59",
   "metadata": {},
   "outputs": [],
   "source": [
    "courseStudentsFiles = glob.glob(courseStudentsFilesPath + dirGen.getDelimiter() + '**' + dirGen.getDelimiter() + '*.csv', recursive=True)"
   ]
  },
  {
   "cell_type": "code",
   "execution_count": null,
   "id": "15f79a31",
   "metadata": {},
   "outputs": [],
   "source": [
    "courseStudentsData = pd.DataFrame()\n",
    "for courseStudentsFile in courseStudentsFiles:\n",
    "    courseStudentsData = courseStudentsData.append(pd.read_csv(courseStudentsFile), ignore_index = True)\n",
    "    \n",
    "courseStudentsData"
   ]
  },
  {
   "cell_type": "code",
   "execution_count": null,
   "id": "9ab667fe",
   "metadata": {},
   "outputs": [],
   "source": [
    "courseStudentsData['metadata_event_time'] = courseStudentsData['metadata_event_time'].apply(parseTimestamp)\n",
    "courseStudentsData.dropna(subset=['metadata_event_time'], inplace = True)\n",
    "courseStudentsData = courseStudentsData.loc[(courseStudentsData['metadata_event_time'] >= startDate) & (courseStudentsData['metadata_event_time'] <= endDate)]\n",
    "courseStudentsData"
   ]
  },
  {
   "cell_type": "code",
   "execution_count": null,
   "id": "8ef3c4ae",
   "metadata": {},
   "outputs": [],
   "source": [
    "courseStudentsData = courseStudentsData.groupby(['metadata_context_id', 'metadata_user_id'])['metadata_event_time'].count().to_frame('total').reset_index()\n",
    "courseStudentsData.drop(['total'], axis = 1, inplace = True)\n",
    "courseStudentsData"
   ]
  },
  {
   "cell_type": "code",
   "execution_count": null,
   "id": "f54b6f08",
   "metadata": {},
   "outputs": [],
   "source": [
    "courseStudentAssignmentsComplete = pd.DataFrame()\n",
    "\n",
    "for course in courseLessonMaterials['metadata_context_id'].unique():\n",
    "    courseStudentAssignmentsCompleteCourse = pd.DataFrame({'body_asset_id': courseLessonMaterials.loc[courseLessonMaterials['metadata_context_id'] == course]['body_asset_id'].unique()}).merge(pd.DataFrame({'metadata_user_id': courseStudentsData.loc[courseStudentsData['metadata_context_id'] == course]['metadata_user_id'].unique()}), how = 'cross')\n",
    "    courseStudentAssignmentsCompleteCourse['metadata_context_id'] = course\n",
    "    courseStudentAssignmentsComplete = courseStudentAssignmentsComplete.append(courseStudentAssignmentsCompleteCourse, ignore_index = True)\n",
    "\n",
    "courseStudentAssignmentsComplete"
   ]
  },
  {
   "cell_type": "code",
   "execution_count": null,
   "id": "2a006a0c",
   "metadata": {},
   "outputs": [],
   "source": [
    "assignmentsDataSubmissionsData = assignmentsDataSubmissionsData.sort_values(by='metadata_event_time').drop_duplicates(subset=['body_asset_id', 'metadata_context_id', 'metadata_user_id'])\n",
    "assignmentsDataSubmissionsData"
   ]
  },
  {
   "cell_type": "code",
   "execution_count": null,
   "id": "fb4cd378",
   "metadata": {},
   "outputs": [],
   "source": [
    "assignmentsDataSubmissionsDataFirstComment = assignmentsDataSubmissionsData.groupby(['metadata_context_id', 'body_asset_id'])['metadata_event_time'].min().to_frame('first_submission_time').reset_index()\n",
    "assignmentsDataSubmissionsDataFirstComment"
   ]
  },
  {
   "cell_type": "code",
   "execution_count": null,
   "id": "a3454782",
   "metadata": {},
   "outputs": [],
   "source": [
    "assignmentsDataSubmissionsData = assignmentsDataSubmissionsData.merge(assignmentsDataSubmissionsDataFirstComment, on = ['metadata_context_id', 'body_asset_id'])\n",
    "assignmentsDataSubmissionsData"
   ]
  },
  {
   "cell_type": "code",
   "execution_count": null,
   "id": "4e128a56",
   "metadata": {},
   "outputs": [],
   "source": [
    "def calculateDelay(df):\n",
    "    return (time.mktime(df['metadata_event_time'].timetuple()) / 3600) - (time.mktime(df['first_submission_time'].timetuple()) / 3600)\n",
    "\n",
    "assignmentsDataSubmissionsData['delay_lessons'] = assignmentsDataSubmissionsData.apply(calculateDelay, axis = 1)\n",
    "assignmentsDataSubmissionsData.drop(['metadata_event_time', 'first_submission_time'], axis = 1, inplace = True)\n",
    "assignmentsDataSubmissionsData"
   ]
  },
  {
   "cell_type": "code",
   "execution_count": null,
   "id": "5483043b",
   "metadata": {},
   "outputs": [],
   "source": [
    "assignmentsDataSubmissionsData = courseStudentAssignmentsComplete.merge(assignmentsDataSubmissionsData, how='left', on=['body_asset_id', 'metadata_context_id', 'metadata_user_id'])\n",
    "assignmentsDataSubmissionsData"
   ]
  },
  {
   "cell_type": "code",
   "execution_count": null,
   "id": "6caf637e",
   "metadata": {},
   "outputs": [],
   "source": [
    "assignmentsDataSubmissionsData = assignmentsDataSubmissionsData.fillna(((time.mktime((endDate + timedelta(seconds = 1)).timetuple()) / 3600) - (time.mktime(startDate.timetuple()) / 3600)))\n",
    "assignmentsDataSubmissionsData"
   ]
  },
  {
   "cell_type": "code",
   "execution_count": null,
   "id": "5571cf77",
   "metadata": {},
   "outputs": [],
   "source": [
    "assignmentsDataSubmissionsData = assignmentsDataSubmissionsData.groupby(['metadata_context_id', 'metadata_user_id'])['delay_lessons'].mean().to_frame('ave_delay').reset_index()\n",
    "assignmentsDataSubmissionsData"
   ]
  },
  {
   "cell_type": "code",
   "execution_count": null,
   "id": "b2137bfe",
   "metadata": {},
   "outputs": [],
   "source": [
    "assignmentsDataSubmissionsData.rename(columns={\"ave_delay\": \"ave_delay_L\"}).to_csv(\"LessonsDelay_Intercession_2022.csv\", header = True, index = False)"
   ]
  },
  {
   "cell_type": "code",
   "execution_count": null,
   "id": "7d86e273",
   "metadata": {},
   "outputs": [],
   "source": []
  }
 ],
 "metadata": {
  "kernelspec": {
   "display_name": "Python 3 (ipykernel)",
   "language": "python",
   "name": "python3"
  },
  "language_info": {
   "codemirror_mode": {
    "name": "ipython",
    "version": 3
   },
   "file_extension": ".py",
   "mimetype": "text/x-python",
   "name": "python",
   "nbconvert_exporter": "python",
   "pygments_lexer": "ipython3",
   "version": "3.8.16"
  }
 },
 "nbformat": 4,
 "nbformat_minor": 5
}

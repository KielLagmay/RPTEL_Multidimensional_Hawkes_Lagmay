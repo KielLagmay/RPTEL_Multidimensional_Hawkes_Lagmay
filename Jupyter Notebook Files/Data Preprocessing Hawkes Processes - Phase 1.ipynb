{
 "cells": [
  {
   "cell_type": "code",
   "execution_count": null,
   "id": "73c64219",
   "metadata": {},
   "outputs": [],
   "source": [
    "import pandas as pd\n",
    "import numpy as np\n",
    "from os import listdir\n",
    "from os import path\n",
    "import pytz\n",
    "import glob\n",
    "from dateutil.parser import isoparse\n",
    "from datetime import datetime, timedelta\n",
    "from DirectoryGenerator import DirectoryGenerator"
   ]
  },
  {
   "cell_type": "code",
   "execution_count": null,
   "id": "d2e426e8",
   "metadata": {},
   "outputs": [],
   "source": [
    "dirGen = DirectoryGenerator()"
   ]
  },
  {
   "cell_type": "code",
   "execution_count": null,
   "id": "1f2bbfe5",
   "metadata": {},
   "outputs": [],
   "source": [
    "courseModalities = pd.read_csv(str(input()))\n",
    "courseModalities"
   ]
  },
  {
   "cell_type": "code",
   "execution_count": null,
   "id": "b344415a",
   "metadata": {},
   "outputs": [],
   "source": [
    "courseModalities = courseModalities.loc[~(courseModalities['Modality'] == '(~)')]\n",
    "courseModalities['short_name'] = courseModalities['Subject Code'] + \"-\" + courseModalities['Section']\n",
    "courseModalities.drop(['Subject Code', 'Section', 'Department', 'School'], axis = 1, inplace = True)\n",
    "courseModalities"
   ]
  },
  {
   "cell_type": "code",
   "execution_count": null,
   "id": "ffb025a0",
   "metadata": {},
   "outputs": [],
   "source": [
    "courseModalities['Modality'] = courseModalities['Modality'].apply(lambda modality: modality if modality in ['(FULLY ONLINE)', '(FULLY ONSITE)'] else '(HYBRID)')\n",
    "courseModalities"
   ]
  },
  {
   "cell_type": "code",
   "execution_count": null,
   "id": "6afe704a",
   "metadata": {},
   "outputs": [],
   "source": [
    "courseList = pd.read_csv(str(input()))\n",
    "courseList"
   ]
  },
  {
   "cell_type": "code",
   "execution_count": null,
   "id": "989c27e3",
   "metadata": {},
   "outputs": [],
   "source": [
    "courseList = courseList[['canvas_course_id', 'short_name']]\n",
    "courseList['canvas_course_id'] = courseList['canvas_course_id'].apply(lambda x: 'id_' + str(int(x) + 165820000000000000))\n",
    "courseList"
   ]
  },
  {
   "cell_type": "code",
   "execution_count": null,
   "id": "07267277",
   "metadata": {},
   "outputs": [],
   "source": [
    "courseModalities = courseList.merge(courseModalities, on=['short_name'])\n",
    "courseModalities"
   ]
  },
  {
   "cell_type": "code",
   "execution_count": null,
   "id": "0846ce09",
   "metadata": {},
   "outputs": [],
   "source": [
    "courseModalities = courseModalities.rename(columns={'canvas_course_id': 'metadata_context_id'})\n",
    "courseModalities"
   ]
  },
  {
   "cell_type": "code",
   "execution_count": null,
   "id": "a9ce08ec",
   "metadata": {},
   "outputs": [],
   "source": [
    "courseModalities.to_csv('CourseModalities_Intercession_2022.csv', header = True, index = False)"
   ]
  },
  {
   "cell_type": "code",
   "execution_count": null,
   "id": "f699f64d",
   "metadata": {},
   "outputs": [],
   "source": [
    "courseAssignmentLogs = pd.read_csv(str(input()))\n",
    "courseAssignmentLogs"
   ]
  },
  {
   "cell_type": "code",
   "execution_count": null,
   "id": "8aaa71a5",
   "metadata": {},
   "outputs": [],
   "source": [
    "courseModalities = courseModalities.merge(courseAssignmentLogs.rename(columns={'total_logs': 'A_est'}), how = 'left', on=['metadata_context_id'])\n",
    "courseModalities"
   ]
  },
  {
   "cell_type": "code",
   "execution_count": null,
   "id": "1e918c06",
   "metadata": {},
   "outputs": [],
   "source": [
    "courseQuizLogs = pd.read_csv(str(input()))\n",
    "courseQuizLogs"
   ]
  },
  {
   "cell_type": "code",
   "execution_count": null,
   "id": "7ad43786",
   "metadata": {},
   "outputs": [],
   "source": [
    "courseModalities = courseModalities.merge(courseQuizLogs.rename(columns={'total_logs': 'Q_est'}), how = 'left', on=['metadata_context_id'])\n",
    "courseModalities"
   ]
  },
  {
   "cell_type": "code",
   "execution_count": null,
   "id": "32222996",
   "metadata": {},
   "outputs": [],
   "source": [
    "courseDiscussionForumLogs = pd.read_csv(str(input()))\n",
    "courseDiscussionForumLogs"
   ]
  },
  {
   "cell_type": "code",
   "execution_count": null,
   "id": "762e154c",
   "metadata": {},
   "outputs": [],
   "source": [
    "courseDiscussionForumLogs = courseDiscussionForumLogs.pivot(columns='is_graded', index='metadata_context_id', values='total_logs').reset_index()\n",
    "courseDiscussionForumLogs = courseDiscussionForumLogs.fillna(0)\n",
    "courseDiscussionForumLogs"
   ]
  },
  {
   "cell_type": "code",
   "execution_count": null,
   "id": "6870111d",
   "metadata": {},
   "outputs": [],
   "source": [
    "courseDiscussionForumLogs.columns = ['metadata_context_id', 'UD_est', 'GD_est']\n",
    "courseDiscussionForumLogs"
   ]
  },
  {
   "cell_type": "code",
   "execution_count": null,
   "id": "1443e7f8",
   "metadata": {},
   "outputs": [],
   "source": [
    "courseModalities = courseModalities.merge(courseDiscussionForumLogs, how='left', on=['metadata_context_id'])\n",
    "courseModalities"
   ]
  },
  {
   "cell_type": "code",
   "execution_count": null,
   "id": "d664d058",
   "metadata": {},
   "outputs": [],
   "source": [
    "courseLessonLogs = pd.read_csv(str(input()))\n",
    "courseLessonLogs"
   ]
  },
  {
   "cell_type": "code",
   "execution_count": null,
   "id": "0d5fc815",
   "metadata": {},
   "outputs": [],
   "source": [
    "courseModalities = courseModalities.merge(courseLessonLogs.rename(columns={'total_logs': 'L_est'}), how='left', on=['metadata_context_id'])\n",
    "courseModalities"
   ]
  },
  {
   "cell_type": "code",
   "execution_count": null,
   "id": "d9f2c320",
   "metadata": {},
   "outputs": [],
   "source": [
    "courseCommentLogs = pd.read_csv(str(input()))\n",
    "courseCommentLogs"
   ]
  },
  {
   "cell_type": "code",
   "execution_count": null,
   "id": "8ea1f8c5",
   "metadata": {},
   "outputs": [],
   "source": [
    "courseModalities = courseModalities.merge(courseCommentLogs.rename(columns={'total': 'C_est'}), how='left', on=['metadata_context_id'])\n",
    "courseModalities"
   ]
  },
  {
   "cell_type": "code",
   "execution_count": null,
   "id": "4f44741d",
   "metadata": {},
   "outputs": [],
   "source": [
    "def addTotalColumns(df, columns):\n",
    "    result = 0\n",
    "    for column in columns:\n",
    "        result = result + df[column]\n",
    "    return result\n",
    "\n",
    "courseModalities = courseModalities.fillna(0)\n",
    "courseModalities['A_est'] = courseModalities.apply(lambda x: addTotalColumns(x, ['A_est', 'GD_est', 'Q_est']), axis = 1)\n",
    "courseModalities['C_est'] = courseModalities.apply(lambda x: addTotalColumns(x, ['UD_est', 'C_est']), axis = 1)\n",
    "courseModalities = courseModalities[['metadata_context_id', 'short_name', 'Modality', 'A_est', 'C_est', 'L_est']]\n",
    "courseModalities"
   ]
  },
  {
   "cell_type": "code",
   "execution_count": null,
   "id": "fb3a8601",
   "metadata": {},
   "outputs": [],
   "source": [
    "def checkIfCompleteInfo(df, columns):\n",
    "    status = True\n",
    "    for column in columns:\n",
    "        status = status and (df[column] > 0)\n",
    "    return status\n",
    "\n",
    "courseModalities['is_complete'] = courseModalities.apply(lambda x: checkIfCompleteInfo(x, ['A_est', 'C_est', 'L_est']), axis = 1)\n",
    "courseModalities = courseModalities.loc[courseModalities['is_complete'] == True]\n",
    "courseModalities.drop(['is_complete'], axis = 1, inplace = True)\n",
    "courseModalities"
   ]
  },
  {
   "cell_type": "code",
   "execution_count": null,
   "id": "4ac986b2",
   "metadata": {},
   "outputs": [],
   "source": [
    "coursesWithGrades = pd.read_csv(str(input()))\n",
    "coursesWithGrades"
   ]
  },
  {
   "cell_type": "code",
   "execution_count": null,
   "id": "41998352",
   "metadata": {},
   "outputs": [],
   "source": [
    "courseModalities = courseModalities.loc[courseModalities['metadata_context_id'].isin(coursesWithGrades['metadata_context_id'].unique())]\n",
    "courseModalities"
   ]
  },
  {
   "cell_type": "code",
   "execution_count": null,
   "id": "e5571851",
   "metadata": {},
   "outputs": [],
   "source": [
    "courseModalities.groupby(['Modality'])['metadata_context_id'].count().to_frame('total_classes').reset_index()"
   ]
  },
  {
   "cell_type": "code",
   "execution_count": null,
   "id": "ae9a4747",
   "metadata": {},
   "outputs": [],
   "source": [
    "courseModalities['course_code'] = courseModalities['short_name'].apply(lambda x: x.split(\"-\")[0])\n",
    "courseModalities.drop(['short_name'], axis = 1, inplace = True)\n",
    "courseModalities"
   ]
  },
  {
   "cell_type": "code",
   "execution_count": null,
   "id": "a77fc659",
   "metadata": {},
   "outputs": [],
   "source": [
    "courseModalities = courseModalities.loc[~(courseModalities['Modality'] == '(FULLY ONSITE)')]\n",
    "courseModalities"
   ]
  },
  {
   "cell_type": "code",
   "execution_count": null,
   "id": "a794eada",
   "metadata": {},
   "outputs": [],
   "source": [
    "courseModalitiesCount = courseModalities.groupby(['course_code', 'Modality'])['metadata_context_id'].count().to_frame('total_classes').reset_index()\n",
    "courseModalitiesCount"
   ]
  },
  {
   "cell_type": "code",
   "execution_count": null,
   "id": "d601f1a1",
   "metadata": {},
   "outputs": [],
   "source": [
    "courseModalitiesCount = courseModalitiesCount.pivot(columns = 'Modality', index='course_code', values='total_classes').reset_index()\n",
    "courseModalitiesCount"
   ]
  },
  {
   "cell_type": "code",
   "execution_count": null,
   "id": "fc5a596a",
   "metadata": {},
   "outputs": [],
   "source": [
    "courseModalitiesCount = courseModalitiesCount.dropna()\n",
    "courseModalitiesCount"
   ]
  },
  {
   "cell_type": "code",
   "execution_count": null,
   "id": "5a75bac6",
   "metadata": {},
   "outputs": [],
   "source": [
    "courseModalities = courseModalities.loc[courseModalities['course_code'].isin(courseModalitiesCount['course_code'].unique())]\n",
    "courseModalities"
   ]
  },
  {
   "cell_type": "code",
   "execution_count": null,
   "id": "73235985",
   "metadata": {},
   "outputs": [],
   "source": [
    "courseModalities.drop(['A_est', 'C_est', 'L_est'], axis = 1).to_csv('CourseModalities_Online_Hybrid_Intercession_2022.csv', header = True, index = False)"
   ]
  },
  {
   "cell_type": "code",
   "execution_count": null,
   "id": "804d8634",
   "metadata": {},
   "outputs": [],
   "source": []
  }
 ],
 "metadata": {
  "kernelspec": {
   "display_name": "Python 3 (ipykernel)",
   "language": "python",
   "name": "python3"
  },
  "language_info": {
   "codemirror_mode": {
    "name": "ipython",
    "version": 3
   },
   "file_extension": ".py",
   "mimetype": "text/x-python",
   "name": "python",
   "nbconvert_exporter": "python",
   "pygments_lexer": "ipython3",
   "version": "3.8.16"
  }
 },
 "nbformat": 4,
 "nbformat_minor": 5
}

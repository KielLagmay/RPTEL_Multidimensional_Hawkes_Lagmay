{
 "cells": [
  {
   "cell_type": "code",
   "execution_count": null,
   "id": "9c381c1c",
   "metadata": {},
   "outputs": [],
   "source": [
    "import pandas as pd\n",
    "import numpy as np\n",
    "from os import listdir\n",
    "from os import path\n",
    "import pytz\n",
    "import glob\n",
    "from dateutil.parser import isoparse\n",
    "from datetime import datetime, timedelta\n",
    "from DirectoryGenerator import DirectoryGenerator"
   ]
  },
  {
   "cell_type": "code",
   "execution_count": null,
   "id": "3cd32ba5",
   "metadata": {},
   "outputs": [],
   "source": [
    "dirGen = DirectoryGenerator()"
   ]
  },
  {
   "cell_type": "code",
   "execution_count": null,
   "id": "c2599114",
   "metadata": {},
   "outputs": [],
   "source": [
    "startDate = datetime.strptime(str(input(\"Start Date (Format: YYYY-MM-DD): \")), \"%Y-%m-%d\").astimezone(pytz.utc)\n",
    "startDate"
   ]
  },
  {
   "cell_type": "code",
   "execution_count": null,
   "id": "85ace849",
   "metadata": {},
   "outputs": [],
   "source": [
    "endDate = datetime.strptime(str(input(\"End Date (Format: YYYY-MM-DD): \")), \"%Y-%m-%d\").astimezone(pytz.utc)\n",
    "endDate"
   ]
  },
  {
   "cell_type": "code",
   "execution_count": null,
   "id": "49991c2e",
   "metadata": {},
   "outputs": [],
   "source": [
    "totalDays = abs(endDate - startDate).days + 1\n",
    "totalDays"
   ]
  },
  {
   "cell_type": "code",
   "execution_count": null,
   "id": "e0a3ed93",
   "metadata": {},
   "outputs": [],
   "source": [
    "def parseTimestamp(timestamp):\n",
    "    try:\n",
    "        return isoparse(timestamp).astimezone(pytz.utc)\n",
    "    except:\n",
    "        return np.nan"
   ]
  },
  {
   "cell_type": "code",
   "execution_count": null,
   "id": "b871af1a",
   "metadata": {},
   "outputs": [],
   "source": [
    "assignmentsDataSubmissionsFilesPath = str(input())"
   ]
  },
  {
   "cell_type": "code",
   "execution_count": null,
   "id": "d76d4a98",
   "metadata": {},
   "outputs": [],
   "source": [
    "assignmentsDataSubmissionsFiles = glob.glob(assignmentsDataSubmissionsFilesPath + dirGen.getDelimiter() + '**' + dirGen.getDelimiter() + '*.csv', recursive=True)"
   ]
  },
  {
   "cell_type": "code",
   "execution_count": null,
   "id": "e6ff3c60",
   "metadata": {},
   "outputs": [],
   "source": [
    "assignmentsDataSubmissionsData = pd.DataFrame()\n",
    "for assignmentsDataSubmissionsFile in assignmentsDataSubmissionsFiles:\n",
    "    assignmentsDataSubmissionsData = assignmentsDataSubmissionsData.append(pd.read_csv(assignmentsDataSubmissionsFile), ignore_index = True)\n",
    "    \n",
    "assignmentsDataSubmissionsData"
   ]
  },
  {
   "cell_type": "code",
   "execution_count": null,
   "id": "d9ccb39e",
   "metadata": {},
   "outputs": [],
   "source": [
    "assignmentsDataSubmissionsData['metadata_event_time'] = assignmentsDataSubmissionsData['metadata_event_time'].apply(parseTimestamp)\n",
    "assignmentsDataSubmissionsData.dropna(subset=['metadata_event_time'], inplace = True)\n",
    "assignmentsDataSubmissionsData = assignmentsDataSubmissionsData.loc[(assignmentsDataSubmissionsData['metadata_event_time'] >= startDate) & (assignmentsDataSubmissionsData['metadata_event_time'] <= endDate)]\n",
    "assignmentsDataSubmissionsData"
   ]
  },
  {
   "cell_type": "code",
   "execution_count": null,
   "id": "a70e0fdf",
   "metadata": {},
   "outputs": [],
   "source": [
    "assignmentsDataSubmissionsData.drop(['collected_at', 'metadata_event_time', 'body_assignment_id', 'body_submission_id', 'body_student_id'], axis = 1, inplace = True)\n",
    "assignmentsDataSubmissionsData = assignmentsDataSubmissionsData.rename(columns={'body_user_id': 'metadata_user_id'})\n",
    "assignmentsDataSubmissionsData"
   ]
  },
  {
   "cell_type": "code",
   "execution_count": null,
   "id": "c9017446",
   "metadata": {},
   "outputs": [],
   "source": [
    "assignmentsDataSubmissionsData['score_percentile'] = (assignmentsDataSubmissionsData['body_score'] / assignmentsDataSubmissionsData['body_points_possible']) * 100\n",
    "assignmentsDataSubmissionsData.drop(['body_score', 'body_points_possible'], axis = 1, inplace = True)\n",
    "assignmentsDataSubmissionsData"
   ]
  },
  {
   "cell_type": "code",
   "execution_count": null,
   "id": "e222e4cb",
   "metadata": {},
   "outputs": [],
   "source": [
    "assignmentsDataSubmissionsData = assignmentsDataSubmissionsData.dropna(subset=['score_percentile'])\n",
    "assignmentsDataSubmissionsData"
   ]
  },
  {
   "cell_type": "code",
   "execution_count": null,
   "id": "fda51060",
   "metadata": {},
   "outputs": [],
   "source": [
    "assignmentsDataSubmissionsData = assignmentsDataSubmissionsData.loc[(assignmentsDataSubmissionsData['score_percentile'] >= 0) & (assignmentsDataSubmissionsData['score_percentile'] <= 100)]\n",
    "assignmentsDataSubmissionsData"
   ]
  },
  {
   "cell_type": "code",
   "execution_count": null,
   "id": "07bbf5f7",
   "metadata": {},
   "outputs": [],
   "source": [
    "assignmentsDataSubmissionsData['metadata_user_id'] = assignmentsDataSubmissionsData['metadata_user_id'].apply(lambda x: 'id_' + x.split(\"_\")[-1])\n",
    "assignmentsDataSubmissionsData"
   ]
  },
  {
   "cell_type": "code",
   "execution_count": null,
   "id": "7c17e9dc",
   "metadata": {},
   "outputs": [],
   "source": [
    "assignmentsDataSubmissionsData = assignmentsDataSubmissionsData.groupby(['metadata_context_id', 'metadata_user_id'])['score_percentile'].mean().to_frame('est_course_grade').reset_index()\n",
    "assignmentsDataSubmissionsData"
   ]
  },
  {
   "cell_type": "code",
   "execution_count": null,
   "id": "82a33d3e",
   "metadata": {},
   "outputs": [],
   "source": [
    "assignmentsDataSubmissionsData.to_csv('EstimatedFinalScores_Intercession_2022.csv', header = True, index = False)"
   ]
  },
  {
   "cell_type": "code",
   "execution_count": null,
   "id": "5fffca47",
   "metadata": {},
   "outputs": [],
   "source": []
  }
 ],
 "metadata": {
  "kernelspec": {
   "display_name": "Python 3 (ipykernel)",
   "language": "python",
   "name": "python3"
  },
  "language_info": {
   "codemirror_mode": {
    "name": "ipython",
    "version": 3
   },
   "file_extension": ".py",
   "mimetype": "text/x-python",
   "name": "python",
   "nbconvert_exporter": "python",
   "pygments_lexer": "ipython3",
   "version": "3.8.16"
  }
 },
 "nbformat": 4,
 "nbformat_minor": 5
}

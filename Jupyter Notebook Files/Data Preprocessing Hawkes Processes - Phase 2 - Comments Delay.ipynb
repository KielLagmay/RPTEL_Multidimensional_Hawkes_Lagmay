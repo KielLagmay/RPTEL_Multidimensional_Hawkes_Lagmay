{
 "cells": [
  {
   "cell_type": "code",
   "execution_count": null,
   "id": "136fa7a4",
   "metadata": {},
   "outputs": [],
   "source": [
    "import pandas as pd\n",
    "import numpy as np\n",
    "from os import listdir\n",
    "from os import path\n",
    "import pytz\n",
    "import glob\n",
    "from dateutil.parser import isoparse\n",
    "from datetime import datetime, timedelta\n",
    "import math\n",
    "import time\n",
    "from DirectoryGenerator import DirectoryGenerator"
   ]
  },
  {
   "cell_type": "code",
   "execution_count": null,
   "id": "b91ff538",
   "metadata": {},
   "outputs": [],
   "source": [
    "dirGen = DirectoryGenerator()"
   ]
  },
  {
   "cell_type": "code",
   "execution_count": null,
   "id": "9511eb0b",
   "metadata": {},
   "outputs": [],
   "source": [
    "startDate = datetime.strptime(str(input(\"Start Date (Format: YYYY-MM-DD): \")), \"%Y-%m-%d\").astimezone(pytz.utc)\n",
    "startDate"
   ]
  },
  {
   "cell_type": "code",
   "execution_count": null,
   "id": "2ec76e7f",
   "metadata": {},
   "outputs": [],
   "source": [
    "endDate = datetime.strptime(str(input(\"End Date (Format: YYYY-MM-DD): \")), \"%Y-%m-%d\").astimezone(pytz.utc)\n",
    "endDate"
   ]
  },
  {
   "cell_type": "code",
   "execution_count": null,
   "id": "333eaf6e",
   "metadata": {},
   "outputs": [],
   "source": [
    "totalDays = abs(endDate - startDate).days + 1\n",
    "totalDays"
   ]
  },
  {
   "cell_type": "code",
   "execution_count": null,
   "id": "57c3a319",
   "metadata": {},
   "outputs": [],
   "source": [
    "def parseTimestamp(timestamp):\n",
    "    try:\n",
    "        return isoparse(timestamp).astimezone(pytz.utc)\n",
    "    except:\n",
    "        return np.nan"
   ]
  },
  {
   "cell_type": "code",
   "execution_count": null,
   "id": "aee8531b",
   "metadata": {},
   "outputs": [],
   "source": [
    "assignmentsDataCommentsFilesPath = str(input())"
   ]
  },
  {
   "cell_type": "code",
   "execution_count": null,
   "id": "7a22cb27",
   "metadata": {},
   "outputs": [],
   "source": [
    "assignmentsDataCommentsFiles = glob.glob(assignmentsDataCommentsFilesPath + dirGen.getDelimiter() + '**' + dirGen.getDelimiter() + '*.csv', recursive=True)"
   ]
  },
  {
   "cell_type": "code",
   "execution_count": null,
   "id": "55dce5ec",
   "metadata": {},
   "outputs": [],
   "source": [
    "assignmentsDataCommentsData = pd.DataFrame()\n",
    "for assignmentsDataCommentsFile in assignmentsDataCommentsFiles:\n",
    "    assignmentsDataCommentsData = assignmentsDataCommentsData.append(pd.read_csv(assignmentsDataCommentsFile), ignore_index = True)\n",
    "    \n",
    "assignmentsDataCommentsData"
   ]
  },
  {
   "cell_type": "code",
   "execution_count": null,
   "id": "046403bb",
   "metadata": {},
   "outputs": [],
   "source": [
    "assignmentsDataCommentsData['metadata_event_time'] = assignmentsDataCommentsData['metadata_event_time'].apply(parseTimestamp)\n",
    "assignmentsDataCommentsData.dropna(subset=['metadata_event_time'], inplace = True)\n",
    "assignmentsDataCommentsData = assignmentsDataCommentsData.loc[(assignmentsDataCommentsData['metadata_event_time'] >= startDate) & (assignmentsDataCommentsData['metadata_event_time'] <= endDate)]\n",
    "assignmentsDataCommentsData"
   ]
  },
  {
   "cell_type": "code",
   "execution_count": null,
   "id": "2ee1e686",
   "metadata": {},
   "outputs": [],
   "source": [
    "assignmentsDataSubmissionsFilesPath = str(input())"
   ]
  },
  {
   "cell_type": "code",
   "execution_count": null,
   "id": "b4cf62a6",
   "metadata": {},
   "outputs": [],
   "source": [
    "assignmentsDataSubmissionsFiles = glob.glob(assignmentsDataSubmissionsFilesPath + dirGen.getDelimiter() + '**' + dirGen.getDelimiter() + '*.csv', recursive=True)"
   ]
  },
  {
   "cell_type": "code",
   "execution_count": null,
   "id": "f7d5e06b",
   "metadata": {},
   "outputs": [],
   "source": [
    "assignmentsDataSubmissionsData = pd.DataFrame()\n",
    "for assignmentsDataSubmissionsFile in assignmentsDataSubmissionsFiles:\n",
    "    assignmentsDataSubmissionsData = assignmentsDataSubmissionsData.append(pd.read_csv(assignmentsDataSubmissionsFile), ignore_index = True)\n",
    "    \n",
    "assignmentsDataSubmissionsData"
   ]
  },
  {
   "cell_type": "code",
   "execution_count": null,
   "id": "c06a2d1d",
   "metadata": {},
   "outputs": [],
   "source": [
    "assignmentsDataSubmissionsData['metadata_event_time'] = assignmentsDataSubmissionsData['metadata_event_time'].apply(parseTimestamp)\n",
    "assignmentsDataSubmissionsData.dropna(subset=['metadata_event_time'], inplace = True)\n",
    "assignmentsDataSubmissionsData = assignmentsDataSubmissionsData.loc[(assignmentsDataSubmissionsData['metadata_event_time'] >= startDate) & (assignmentsDataSubmissionsData['metadata_event_time'] <= endDate)]\n",
    "assignmentsDataSubmissionsData"
   ]
  },
  {
   "cell_type": "code",
   "execution_count": null,
   "id": "13f2d8ee",
   "metadata": {},
   "outputs": [],
   "source": [
    "assignmentsDataSubmissionsData.drop(['body_submitted_at', 'body_attempt'], axis = 1, inplace = True)\n",
    "assignmentsDataSubmissionsData"
   ]
  },
  {
   "cell_type": "code",
   "execution_count": null,
   "id": "580979ad",
   "metadata": {},
   "outputs": [],
   "source": [
    "assignmentInfoData = pd.read_csv(str(input()))\n",
    "assignmentInfoData"
   ]
  },
  {
   "cell_type": "code",
   "execution_count": null,
   "id": "cbc961fd",
   "metadata": {},
   "outputs": [],
   "source": [
    "#assignmentInfoData.drop(['metadata_event_time', 'body_context_id', 'body_due_at'], axis = 1, inplace = True)\n",
    "#assignmentInfoData"
   ]
  },
  {
   "cell_type": "code",
   "execution_count": null,
   "id": "e88e0675",
   "metadata": {},
   "outputs": [],
   "source": [
    "assignmentsDataSubmissionsData = assignmentsDataSubmissionsData.merge(assignmentInfoData, on = ['metadata_context_id', 'body_assignment_id'])\n",
    "assignmentsDataSubmissionsData"
   ]
  },
  {
   "cell_type": "code",
   "execution_count": null,
   "id": "c8632a6d",
   "metadata": {},
   "outputs": [],
   "source": [
    "courseStudentsFilesPath = str(input())"
   ]
  },
  {
   "cell_type": "code",
   "execution_count": null,
   "id": "1373ce59",
   "metadata": {},
   "outputs": [],
   "source": [
    "courseStudentsFiles = glob.glob(courseStudentsFilesPath + dirGen.getDelimiter() + '**' + dirGen.getDelimiter() + '*.csv', recursive=True)"
   ]
  },
  {
   "cell_type": "code",
   "execution_count": null,
   "id": "15f79a31",
   "metadata": {},
   "outputs": [],
   "source": [
    "courseStudentsData = pd.DataFrame()\n",
    "for courseStudentsFile in courseStudentsFiles:\n",
    "    courseStudentsData = courseStudentsData.append(pd.read_csv(courseStudentsFile), ignore_index = True)\n",
    "    \n",
    "courseStudentsData"
   ]
  },
  {
   "cell_type": "code",
   "execution_count": null,
   "id": "9ab667fe",
   "metadata": {},
   "outputs": [],
   "source": [
    "courseStudentsData['metadata_event_time'] = courseStudentsData['metadata_event_time'].apply(parseTimestamp)\n",
    "courseStudentsData.dropna(subset=['metadata_event_time'], inplace = True)\n",
    "courseStudentsData = courseStudentsData.loc[(courseStudentsData['metadata_event_time'] >= startDate) & (courseStudentsData['metadata_event_time'] <= endDate)]\n",
    "courseStudentsData"
   ]
  },
  {
   "cell_type": "code",
   "execution_count": null,
   "id": "8ef3c4ae",
   "metadata": {},
   "outputs": [],
   "source": [
    "courseStudentsData = courseStudentsData.groupby(['metadata_context_id', 'metadata_user_id'])['metadata_event_time'].count().to_frame('total').reset_index()\n",
    "courseStudentsData.drop(['total'], axis = 1, inplace = True)\n",
    "courseStudentsData"
   ]
  },
  {
   "cell_type": "code",
   "execution_count": null,
   "id": "e3e4b92d",
   "metadata": {},
   "outputs": [],
   "source": [
    "courseStudentsData = courseStudentsData.loc[courseStudentsData['metadata_context_id'].isin(assignmentInfoData['metadata_context_id'].unique())]\n",
    "courseStudentsData"
   ]
  },
  {
   "cell_type": "code",
   "execution_count": null,
   "id": "f54b6f08",
   "metadata": {},
   "outputs": [],
   "source": [
    "courseStudentAssignmentsComplete = pd.DataFrame()\n",
    "\n",
    "for course in assignmentInfoData['metadata_context_id'].unique():\n",
    "    courseStudentAssignmentsCompleteCourse = pd.DataFrame({'body_assignment_id': assignmentInfoData.loc[assignmentInfoData['metadata_context_id'] == course]['body_assignment_id'].unique()}).merge(pd.DataFrame({'metadata_user_id': courseStudentsData.loc[courseStudentsData['metadata_context_id'] == course]['metadata_user_id'].unique()}), how = 'cross')\n",
    "    courseStudentAssignmentsCompleteCourse['metadata_context_id'] = course\n",
    "    courseStudentAssignmentsComplete = courseStudentAssignmentsComplete.append(courseStudentAssignmentsCompleteCourse, ignore_index = True)\n",
    "\n",
    "courseStudentAssignmentsComplete"
   ]
  },
  {
   "cell_type": "code",
   "execution_count": null,
   "id": "4592effc",
   "metadata": {},
   "outputs": [],
   "source": [
    "assignmentsDataCommentsData = assignmentsDataCommentsData.merge(assignmentsDataSubmissionsData[['body_submission_id', 'body_assignment_id', 'metadata_context_id', 'body_user_id']].rename(columns={'body_user_id': 'metadata_user_id'}), on=['body_submission_id', 'metadata_context_id', 'metadata_user_id'])\n",
    "assignmentsDataCommentsData"
   ]
  },
  {
   "cell_type": "code",
   "execution_count": null,
   "id": "777358b9",
   "metadata": {},
   "outputs": [],
   "source": [
    "assignmentsDataCommentsData.drop(['body_submission_id', 'submission_comments_count'], axis = 1, inplace = True)\n",
    "assignmentsDataCommentsData"
   ]
  },
  {
   "cell_type": "code",
   "execution_count": null,
   "id": "2a006a0c",
   "metadata": {},
   "outputs": [],
   "source": [
    "assignmentsDataCommentsData = assignmentsDataCommentsData.sort_values(by='metadata_event_time').drop_duplicates(subset=['body_assignment_id', 'metadata_context_id', 'metadata_user_id'])\n",
    "assignmentsDataCommentsData"
   ]
  },
  {
   "cell_type": "code",
   "execution_count": null,
   "id": "fb4cd378",
   "metadata": {},
   "outputs": [],
   "source": [
    "assignmentsDataCommentsDataFirstComment = assignmentsDataCommentsData.groupby(['metadata_context_id', 'body_assignment_id'])['metadata_event_time'].min().to_frame('first_submission_time').reset_index()\n",
    "assignmentsDataCommentsDataFirstComment"
   ]
  },
  {
   "cell_type": "code",
   "execution_count": null,
   "id": "a3454782",
   "metadata": {},
   "outputs": [],
   "source": [
    "assignmentsDataCommentsData = assignmentsDataCommentsData.merge(assignmentsDataCommentsDataFirstComment, on = ['metadata_context_id', 'body_assignment_id'])\n",
    "assignmentsDataCommentsData"
   ]
  },
  {
   "cell_type": "code",
   "execution_count": null,
   "id": "4e128a56",
   "metadata": {},
   "outputs": [],
   "source": [
    "def calculateDelay(df):\n",
    "    return (time.mktime(df['metadata_event_time'].timetuple()) / 3600) - (time.mktime(df['first_submission_time'].timetuple()) / 3600)\n",
    "\n",
    "assignmentsDataCommentsData['delay_comments'] = assignmentsDataCommentsData.apply(calculateDelay, axis = 1)\n",
    "assignmentsDataCommentsData.drop(['metadata_event_time', 'first_submission_time'], axis = 1, inplace = True)\n",
    "assignmentsDataCommentsData"
   ]
  },
  {
   "cell_type": "code",
   "execution_count": null,
   "id": "5483043b",
   "metadata": {},
   "outputs": [],
   "source": [
    "assignmentsDataCommentsData = courseStudentAssignmentsComplete.merge(assignmentsDataCommentsData, how='left', on=['body_assignment_id', 'metadata_context_id', 'metadata_user_id'])\n",
    "assignmentsDataCommentsData"
   ]
  },
  {
   "cell_type": "code",
   "execution_count": null,
   "id": "6caf637e",
   "metadata": {},
   "outputs": [],
   "source": [
    "assignmentsDataCommentsData = assignmentsDataCommentsData.fillna(((time.mktime((endDate + timedelta(seconds = 1)).timetuple()) / 3600) - (time.mktime(startDate.timetuple()) / 3600)))\n",
    "assignmentsDataCommentsData"
   ]
  },
  {
   "cell_type": "code",
   "execution_count": null,
   "id": "5571cf77",
   "metadata": {},
   "outputs": [],
   "source": [
    "assignmentsDataCommentsData = assignmentsDataCommentsData.groupby(['metadata_context_id', 'metadata_user_id'])['delay_comments'].mean().to_frame('ave_delay').reset_index()\n",
    "assignmentsDataCommentsData"
   ]
  },
  {
   "cell_type": "code",
   "execution_count": null,
   "id": "b2137bfe",
   "metadata": {},
   "outputs": [],
   "source": [
    "assignmentsDataCommentsData.rename(columns={\"ave_delay\": \"ave_delay_C\"}).to_csv(\"AssignmentCommentsDelay_Intercession_2022.csv\", header = True, index = False)"
   ]
  },
  {
   "cell_type": "code",
   "execution_count": null,
   "id": "7d86e273",
   "metadata": {},
   "outputs": [],
   "source": []
  }
 ],
 "metadata": {
  "kernelspec": {
   "display_name": "Python 3 (ipykernel)",
   "language": "python",
   "name": "python3"
  },
  "language_info": {
   "codemirror_mode": {
    "name": "ipython",
    "version": 3
   },
   "file_extension": ".py",
   "mimetype": "text/x-python",
   "name": "python",
   "nbconvert_exporter": "python",
   "pygments_lexer": "ipython3",
   "version": "3.8.16"
  }
 },
 "nbformat": 4,
 "nbformat_minor": 5
}

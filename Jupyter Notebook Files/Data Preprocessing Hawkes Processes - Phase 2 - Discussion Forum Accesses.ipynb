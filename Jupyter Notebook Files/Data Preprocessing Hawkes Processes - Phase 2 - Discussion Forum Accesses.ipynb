{
 "cells": [
  {
   "cell_type": "code",
   "execution_count": null,
   "id": "136fa7a4",
   "metadata": {},
   "outputs": [],
   "source": [
    "import pandas as pd\n",
    "import numpy as np\n",
    "from os import listdir\n",
    "from os import path\n",
    "import pytz\n",
    "import glob\n",
    "from dateutil.parser import isoparse\n",
    "from datetime import datetime, timedelta\n",
    "from DirectoryGenerator import DirectoryGenerator"
   ]
  },
  {
   "cell_type": "code",
   "execution_count": null,
   "id": "b91ff538",
   "metadata": {},
   "outputs": [],
   "source": [
    "dirGen = DirectoryGenerator()"
   ]
  },
  {
   "cell_type": "code",
   "execution_count": null,
   "id": "9511eb0b",
   "metadata": {},
   "outputs": [],
   "source": [
    "startDate = datetime.strptime(str(input(\"Start Date (Format: YYYY-MM-DD): \")), \"%Y-%m-%d\").astimezone(pytz.utc)\n",
    "startDate"
   ]
  },
  {
   "cell_type": "code",
   "execution_count": null,
   "id": "2ec76e7f",
   "metadata": {},
   "outputs": [],
   "source": [
    "endDate = datetime.strptime(str(input(\"End Date (Format: YYYY-MM-DD): \")), \"%Y-%m-%d\").astimezone(pytz.utc)\n",
    "endDate"
   ]
  },
  {
   "cell_type": "code",
   "execution_count": null,
   "id": "333eaf6e",
   "metadata": {},
   "outputs": [],
   "source": [
    "totalDays = abs(endDate - startDate).days + 1\n",
    "totalDays"
   ]
  },
  {
   "cell_type": "code",
   "execution_count": null,
   "id": "57c3a319",
   "metadata": {},
   "outputs": [],
   "source": [
    "def parseTimestamp(timestamp):\n",
    "    try:\n",
    "        return isoparse(timestamp).astimezone(pytz.utc)\n",
    "    except:\n",
    "        return np.nan"
   ]
  },
  {
   "cell_type": "code",
   "execution_count": null,
   "id": "45c3b786",
   "metadata": {},
   "outputs": [],
   "source": [
    "assignmentsDataSubmissionsFilesPath = str(input())"
   ]
  },
  {
   "cell_type": "code",
   "execution_count": null,
   "id": "bcafbe50",
   "metadata": {},
   "outputs": [],
   "source": [
    "assignmentsDataSubmissionsFiles = glob.glob(assignmentsDataSubmissionsFilesPath + dirGen.getDelimiter() + '**' + dirGen.getDelimiter() + '*.csv', recursive=True)"
   ]
  },
  {
   "cell_type": "code",
   "execution_count": null,
   "id": "d3a5b509",
   "metadata": {},
   "outputs": [],
   "source": [
    "assignmentsDataSubmissionsData = pd.DataFrame()\n",
    "for assignmentsDataSubmissionsFile in assignmentsDataSubmissionsFiles:\n",
    "    assignmentsDataSubmissionsData = assignmentsDataSubmissionsData.append(pd.read_csv(assignmentsDataSubmissionsFile), ignore_index = True)\n",
    "    \n",
    "assignmentsDataSubmissionsData"
   ]
  },
  {
   "cell_type": "code",
   "execution_count": null,
   "id": "ddef661f",
   "metadata": {},
   "outputs": [],
   "source": [
    "assignmentsDataSubmissionsData['metadata_event_time'] = assignmentsDataSubmissionsData['metadata_event_time'].apply(parseTimestamp)\n",
    "assignmentsDataSubmissionsData.dropna(subset=['metadata_event_time'], inplace = True)\n",
    "assignmentsDataSubmissionsData = assignmentsDataSubmissionsData.loc[(assignmentsDataSubmissionsData['metadata_event_time'] >= startDate) & (assignmentsDataSubmissionsData['metadata_event_time'] <= endDate)]\n",
    "assignmentsDataSubmissionsData"
   ]
  },
  {
   "cell_type": "code",
   "execution_count": null,
   "id": "96a923e5",
   "metadata": {},
   "outputs": [],
   "source": [
    "assignmentsDataSubmissionsData = assignmentsDataSubmissionsData.loc[assignmentsDataSubmissionsData['metadata_context_role'] == 'StudentEnrollment']\n",
    "assignmentsDataSubmissionsData.drop(['body_role', 'body_asset_name', 'collected_at', 'metadata_context_role', 'body_asset_id'], axis = 1, inplace = True)\n",
    "assignmentsDataSubmissionsData"
   ]
  },
  {
   "cell_type": "code",
   "execution_count": null,
   "id": "2b96dc54",
   "metadata": {},
   "outputs": [],
   "source": [
    "ungradedGradedDiscussionForums = pd.read_csv(str(input()))\n",
    "ungradedGradedDiscussionForums"
   ]
  },
  {
   "cell_type": "code",
   "execution_count": null,
   "id": "bcf3b427",
   "metadata": {},
   "outputs": [],
   "source": [
    "assignmentsDataSubmissionsData['course_topic'] = assignmentsDataSubmissionsData['metadata_context_id'] + \"-\" + assignmentsDataSubmissionsData['body_discussion_topic_id']\n",
    "assignmentsDataSubmissionsData"
   ]
  },
  {
   "cell_type": "code",
   "execution_count": null,
   "id": "54ce1feb",
   "metadata": {},
   "outputs": [],
   "source": [
    "assignmentsDataSubmissionsData = assignmentsDataSubmissionsData.merge(ungradedGradedDiscussionForums, on=['course_topic'])\n",
    "assignmentsDataSubmissionsData.drop(['course_topic'], axis = 1, inplace = True)\n",
    "assignmentsDataSubmissionsData"
   ]
  },
  {
   "cell_type": "code",
   "execution_count": null,
   "id": "0cdfd8d6",
   "metadata": {},
   "outputs": [],
   "source": [
    "assignmentsDataSubmissionsDataUngraded = assignmentsDataSubmissionsData.loc[assignmentsDataSubmissionsData['is_graded'] == False]\n",
    "assignmentsDataSubmissionsDataUngraded.drop(['is_graded'], axis = 1, inplace = True)\n",
    "assignmentsDataSubmissionsDataUngraded"
   ]
  },
  {
   "cell_type": "code",
   "execution_count": null,
   "id": "4439b141",
   "metadata": {},
   "outputs": [],
   "source": [
    "assignmentsDataSubmissionsDataUngraded['metadata_event_time'] = assignmentsDataSubmissionsDataUngraded['metadata_event_time'].apply(str)\n",
    "assignmentsDataSubmissionsDataUngraded"
   ]
  },
  {
   "cell_type": "code",
   "execution_count": null,
   "id": "16be1b57",
   "metadata": {},
   "outputs": [],
   "source": [
    "assignmentsDataSubmissionsDataUngraded = assignmentsDataSubmissionsDataUngraded.groupby(['metadata_context_id', 'metadata_user_id'])['metadata_event_time'].apply(list).reset_index()\n",
    "assignmentsDataSubmissionsDataUngraded"
   ]
  },
  {
   "cell_type": "code",
   "execution_count": null,
   "id": "b6219d06",
   "metadata": {},
   "outputs": [],
   "source": [
    "assignmentsDataSubmissionsDataUngraded.to_csv(\"UngradedDiscussionForumsAccesses_Intercession_2022.csv\", header = True, index = False)"
   ]
  },
  {
   "cell_type": "code",
   "execution_count": null,
   "id": "90a61610",
   "metadata": {},
   "outputs": [],
   "source": [
    "assignmentsDataSubmissionsDataGraded = assignmentsDataSubmissionsData.loc[assignmentsDataSubmissionsData['is_graded'] == True]\n",
    "assignmentsDataSubmissionsDataGraded.drop(['is_graded'], axis = 1, inplace = True)\n",
    "assignmentsDataSubmissionsDataGraded"
   ]
  },
  {
   "cell_type": "code",
   "execution_count": null,
   "id": "1aa72bbb",
   "metadata": {},
   "outputs": [],
   "source": [
    "assignmentsDataSubmissionsDataGraded['metadata_event_time'] = assignmentsDataSubmissionsDataGraded['metadata_event_time'].apply(str)\n",
    "assignmentsDataSubmissionsDataGraded"
   ]
  },
  {
   "cell_type": "code",
   "execution_count": null,
   "id": "b58c60c1",
   "metadata": {},
   "outputs": [],
   "source": [
    "assignmentsDataSubmissionsDataGraded = assignmentsDataSubmissionsDataGraded.groupby(['metadata_context_id', 'metadata_user_id'])['metadata_event_time'].apply(list).reset_index()\n",
    "assignmentsDataSubmissionsDataGraded"
   ]
  },
  {
   "cell_type": "code",
   "execution_count": null,
   "id": "526dfd19",
   "metadata": {},
   "outputs": [],
   "source": [
    "assignmentsDataSubmissionsDataGraded.to_csv(\"GradedDiscussionForumsAccesses_Intercession_2022.csv\", header = True, index = False)"
   ]
  },
  {
   "cell_type": "code",
   "execution_count": null,
   "id": "ec2cd1d3",
   "metadata": {},
   "outputs": [],
   "source": []
  }
 ],
 "metadata": {
  "kernelspec": {
   "display_name": "Python 3 (ipykernel)",
   "language": "python",
   "name": "python3"
  },
  "language_info": {
   "codemirror_mode": {
    "name": "ipython",
    "version": 3
   },
   "file_extension": ".py",
   "mimetype": "text/x-python",
   "name": "python",
   "nbconvert_exporter": "python",
   "pygments_lexer": "ipython3",
   "version": "3.8.16"
  }
 },
 "nbformat": 4,
 "nbformat_minor": 5
}

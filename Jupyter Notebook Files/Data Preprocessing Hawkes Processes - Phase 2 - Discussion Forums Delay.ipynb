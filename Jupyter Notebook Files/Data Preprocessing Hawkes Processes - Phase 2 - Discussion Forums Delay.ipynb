{
 "cells": [
  {
   "cell_type": "code",
   "execution_count": null,
   "id": "136fa7a4",
   "metadata": {},
   "outputs": [],
   "source": [
    "import pandas as pd\n",
    "import numpy as np\n",
    "from os import listdir\n",
    "from os import path\n",
    "import pytz\n",
    "import glob\n",
    "import math\n",
    "import time\n",
    "from dateutil.parser import isoparse\n",
    "from datetime import datetime, timedelta\n",
    "from DirectoryGenerator import DirectoryGenerator"
   ]
  },
  {
   "cell_type": "code",
   "execution_count": null,
   "id": "b91ff538",
   "metadata": {},
   "outputs": [],
   "source": [
    "dirGen = DirectoryGenerator()"
   ]
  },
  {
   "cell_type": "code",
   "execution_count": null,
   "id": "9511eb0b",
   "metadata": {},
   "outputs": [],
   "source": [
    "startDate = datetime.strptime(str(input(\"Start Date (Format: YYYY-MM-DD): \")), \"%Y-%m-%d\").astimezone(pytz.utc)\n",
    "startDate"
   ]
  },
  {
   "cell_type": "code",
   "execution_count": null,
   "id": "2ec76e7f",
   "metadata": {},
   "outputs": [],
   "source": [
    "endDate = datetime.strptime(str(input(\"End Date (Format: YYYY-MM-DD): \")), \"%Y-%m-%d\").astimezone(pytz.utc)\n",
    "endDate"
   ]
  },
  {
   "cell_type": "code",
   "execution_count": null,
   "id": "333eaf6e",
   "metadata": {},
   "outputs": [],
   "source": [
    "totalDays = abs(endDate - startDate).days + 1\n",
    "totalDays"
   ]
  },
  {
   "cell_type": "code",
   "execution_count": null,
   "id": "57c3a319",
   "metadata": {},
   "outputs": [],
   "source": [
    "def parseTimestamp(timestamp):\n",
    "    try:\n",
    "        return isoparse(timestamp).astimezone(pytz.utc)\n",
    "    except:\n",
    "        return np.nan"
   ]
  },
  {
   "cell_type": "code",
   "execution_count": null,
   "id": "45c3b786",
   "metadata": {},
   "outputs": [],
   "source": [
    "discussionForumsDataPostsFilesPath = str(input())"
   ]
  },
  {
   "cell_type": "code",
   "execution_count": null,
   "id": "bcafbe50",
   "metadata": {},
   "outputs": [],
   "source": [
    "discussionForumsDataPostsFiles = glob.glob(discussionForumsDataPostsFilesPath + dirGen.getDelimiter() + '**' + dirGen.getDelimiter() + '*.csv', recursive=True)"
   ]
  },
  {
   "cell_type": "code",
   "execution_count": null,
   "id": "d3a5b509",
   "metadata": {},
   "outputs": [],
   "source": [
    "discussionForumsPostsData = pd.DataFrame()\n",
    "for discussionForumsDataPostsFile in discussionForumsDataPostsFiles:\n",
    "    discussionForumsPostsData = discussionForumsPostsData.append(pd.read_csv(discussionForumsDataPostsFile)[['metadata_event_time', 'metadata_context_id', 'metadata_context_role', 'metadata_user_id', 'body_assignment_id', 'body_discussion_topic_id', 'body_parent_discussion_entry_id']], ignore_index = True)\n",
    "    \n",
    "discussionForumsPostsData"
   ]
  },
  {
   "cell_type": "code",
   "execution_count": null,
   "id": "ddef661f",
   "metadata": {},
   "outputs": [],
   "source": [
    "discussionForumsPostsData['metadata_event_time'] = discussionForumsPostsData['metadata_event_time'].apply(parseTimestamp)\n",
    "discussionForumsPostsData.dropna(subset=['metadata_event_time'], inplace = True)\n",
    "discussionForumsPostsData"
   ]
  },
  {
   "cell_type": "code",
   "execution_count": null,
   "id": "140d88fc",
   "metadata": {},
   "outputs": [],
   "source": [
    "discussionForumsPostsData = discussionForumsPostsData.loc[(discussionForumsPostsData['metadata_event_time'] >= startDate) & (discussionForumsPostsData['metadata_event_time'] <= endDate)]\n",
    "discussionForumsPostsData"
   ]
  },
  {
   "cell_type": "code",
   "execution_count": null,
   "id": "2b96dc54",
   "metadata": {},
   "outputs": [],
   "source": [
    "discussionForumsPostsData = discussionForumsPostsData.loc[discussionForumsPostsData['metadata_context_role'] == 'StudentEnrollment']\n",
    "discussionForumsPostsData.drop(['metadata_context_role'], axis = 1, inplace = True)\n",
    "discussionForumsPostsData"
   ]
  },
  {
   "cell_type": "code",
   "execution_count": null,
   "id": "911540fc",
   "metadata": {},
   "outputs": [],
   "source": [
    "discussionForumsPostsData.drop(['body_parent_discussion_entry_id'], axis = 1, inplace = True)\n",
    "discussionForumsPostsData"
   ]
  },
  {
   "cell_type": "code",
   "execution_count": null,
   "id": "b28def84",
   "metadata": {},
   "outputs": [],
   "source": [
    "courseTopicGradedUngradedList = pd.read_csv(str(input()))\n",
    "courseTopicGradedUngradedList"
   ]
  },
  {
   "cell_type": "code",
   "execution_count": null,
   "id": "654f1ab8",
   "metadata": {},
   "outputs": [],
   "source": [
    "discussionForumsPostsData['course_topic'] = discussionForumsPostsData['metadata_context_id'] + \"-\" + discussionForumsPostsData['body_discussion_topic_id']\n",
    "discussionForumsPostsData"
   ]
  },
  {
   "cell_type": "code",
   "execution_count": null,
   "id": "995d01c9",
   "metadata": {},
   "outputs": [],
   "source": [
    "discussionForumsPostsData = discussionForumsPostsData.merge(courseTopicGradedUngradedList, on=['course_topic'])\n",
    "discussionForumsPostsData"
   ]
  },
  {
   "cell_type": "code",
   "execution_count": null,
   "id": "98dfb884",
   "metadata": {},
   "outputs": [],
   "source": [
    "discussionForumsPostsDataGraded = discussionForumsPostsData.loc[discussionForumsPostsData['is_graded'] == True]\n",
    "discussionForumsPostsDataGraded.drop(['is_graded'], axis = 1, inplace = True)\n",
    "discussionForumsPostsDataGraded"
   ]
  },
  {
   "cell_type": "code",
   "execution_count": null,
   "id": "785cb1b3",
   "metadata": {},
   "outputs": [],
   "source": [
    "discussionForumsPostsDataGraded = discussionForumsPostsDataGraded.sort_values(by=['metadata_event_time']).drop_duplicates(subset=['metadata_context_id', 'body_discussion_topic_id', 'metadata_user_id'])\n",
    "discussionForumsPostsDataGraded"
   ]
  },
  {
   "cell_type": "code",
   "execution_count": null,
   "id": "6ac06d3d",
   "metadata": {},
   "outputs": [],
   "source": [
    "assignmentsCreationInfoFilesPath = str(input())"
   ]
  },
  {
   "cell_type": "code",
   "execution_count": null,
   "id": "42726043",
   "metadata": {},
   "outputs": [],
   "source": [
    "assignmentsCreationInfoFiles = glob.glob(assignmentsCreationInfoFilesPath + dirGen.getDelimiter() + '**' + dirGen.getDelimiter() + '*.csv', recursive=True)"
   ]
  },
  {
   "cell_type": "code",
   "execution_count": null,
   "id": "8feb6a94",
   "metadata": {},
   "outputs": [],
   "source": [
    "assignmentsCreationInfoData = pd.DataFrame()\n",
    "for assignmentsCreationInfoFile in assignmentsCreationInfoFiles:\n",
    "    assignmentsCreationInfoData = assignmentsCreationInfoData.append(pd.read_csv(assignmentsCreationInfoFile), ignore_index = True)\n",
    "    \n",
    "assignmentsCreationInfoData"
   ]
  },
  {
   "cell_type": "code",
   "execution_count": null,
   "id": "efec3c1b",
   "metadata": {},
   "outputs": [],
   "source": [
    "assignmentsCreationInfoData = assignmentsCreationInfoData[['metadata_event_time', 'body_context_id', 'body_discussion_topic_id']]\n",
    "assignmentsCreationInfoData"
   ]
  },
  {
   "cell_type": "code",
   "execution_count": null,
   "id": "20ba6593",
   "metadata": {},
   "outputs": [],
   "source": [
    "assignmentsCreationInfoData['metadata_event_time'] = assignmentsCreationInfoData['metadata_event_time'].apply(isoparse)\n",
    "assignmentsCreationInfoData.dropna(subset=['metadata_event_time'], inplace = True)\n",
    "assignmentsCreationInfoData = assignmentsCreationInfoData.loc[assignmentsCreationInfoData['metadata_event_time'] <= endDate]\n",
    "assignmentsCreationInfoData = assignmentsCreationInfoData.sort_values(by='metadata_event_time').drop_duplicates(subset=['body_context_id', 'body_discussion_topic_id']).reset_index()\n",
    "assignmentsCreationInfoData"
   ]
  },
  {
   "cell_type": "code",
   "execution_count": null,
   "id": "0aaebe96",
   "metadata": {},
   "outputs": [],
   "source": [
    "assignmentsCreationInfoData['metadata_event_time'] = assignmentsCreationInfoData['metadata_event_time'].apply(lambda ts: ts if ts >= startDate else startDate)\n",
    "assignmentsCreationInfoData"
   ]
  },
  {
   "cell_type": "code",
   "execution_count": null,
   "id": "81b67985",
   "metadata": {},
   "outputs": [],
   "source": [
    "assignmentsCreationInfoData = assignmentsCreationInfoData.rename(columns = {'body_context_id': 'metadata_context_id'})\n",
    "assignmentsCreationInfoData['body_discussion_topic_id'] = assignmentsCreationInfoData['body_discussion_topic_id'].apply(lambda x: 'topic_' + str(int(x.split(\"_\")[-1]) - 165820000000000000))\n",
    "assignmentsCreationInfoData"
   ]
  },
  {
   "cell_type": "code",
   "execution_count": null,
   "id": "2684e627",
   "metadata": {},
   "outputs": [],
   "source": [
    "courseDiscussionForums = assignmentsCreationInfoData.groupby(['metadata_context_id', 'body_discussion_topic_id'])['metadata_event_time'].count().to_frame('total').reset_index()\n",
    "courseDiscussionForums"
   ]
  },
  {
   "cell_type": "code",
   "execution_count": null,
   "id": "72c15179",
   "metadata": {},
   "outputs": [],
   "source": [
    "courseDiscussionForums['course_topic'] = courseDiscussionForums['metadata_context_id'] + \"-\" + courseDiscussionForums['body_discussion_topic_id']\n",
    "courseDiscussionForums"
   ]
  },
  {
   "cell_type": "code",
   "execution_count": null,
   "id": "cc4437e6",
   "metadata": {},
   "outputs": [],
   "source": [
    "courseDiscussionForums = courseDiscussionForums.merge(courseTopicGradedUngradedList, on=['course_topic'])\n",
    "courseDiscussionForums.drop(['total', 'course_topic'], axis = 1, inplace = True)\n",
    "courseDiscussionForums"
   ]
  },
  {
   "cell_type": "code",
   "execution_count": null,
   "id": "d9675559",
   "metadata": {},
   "outputs": [],
   "source": [
    "courseStudentsFilesPath = str(input())"
   ]
  },
  {
   "cell_type": "code",
   "execution_count": null,
   "id": "d48bf227",
   "metadata": {},
   "outputs": [],
   "source": [
    "courseStudentsFiles = glob.glob(courseStudentsFilesPath + dirGen.getDelimiter() + '**' + dirGen.getDelimiter() + '*.csv', recursive=True)"
   ]
  },
  {
   "cell_type": "code",
   "execution_count": null,
   "id": "5e2bc543",
   "metadata": {},
   "outputs": [],
   "source": [
    "courseStudentsData = pd.DataFrame()\n",
    "for courseStudentsFile in courseStudentsFiles:\n",
    "    courseStudentsData = courseStudentsData.append(pd.read_csv(courseStudentsFile), ignore_index = True)\n",
    "    \n",
    "courseStudentsData"
   ]
  },
  {
   "cell_type": "code",
   "execution_count": null,
   "id": "6608a858",
   "metadata": {},
   "outputs": [],
   "source": [
    "courseStudentsData['metadata_event_time'] = courseStudentsData['metadata_event_time'].apply(parseTimestamp)\n",
    "courseStudentsData.dropna(subset=['metadata_event_time'], inplace = True)\n",
    "courseStudentsData = courseStudentsData.loc[(courseStudentsData['metadata_event_time'] >= startDate) & (courseStudentsData['metadata_event_time'] <= endDate)]\n",
    "courseStudentsData"
   ]
  },
  {
   "cell_type": "code",
   "execution_count": null,
   "id": "39078237",
   "metadata": {},
   "outputs": [],
   "source": [
    "courseStudentsData = courseStudentsData.groupby(['metadata_context_id', 'metadata_user_id'])['metadata_event_time'].count().to_frame('total').reset_index()\n",
    "courseStudentsData.drop(['total'], axis = 1, inplace = True)\n",
    "courseStudentsData"
   ]
  },
  {
   "cell_type": "code",
   "execution_count": null,
   "id": "a87665cc",
   "metadata": {},
   "outputs": [],
   "source": [
    "courseStudentsData = courseStudentsData.loc[courseStudentsData['metadata_context_id'].isin(courseDiscussionForums['metadata_context_id'].unique())]\n",
    "courseStudentsData"
   ]
  },
  {
   "cell_type": "code",
   "execution_count": null,
   "id": "4088e829",
   "metadata": {},
   "outputs": [],
   "source": [
    "courseStudentAssignmentsComplete = pd.DataFrame()\n",
    "\n",
    "for course in courseDiscussionForums.loc[courseDiscussionForums['is_graded'] == True]['metadata_context_id'].unique():\n",
    "    courseStudentAssignmentsCompleteCourse = pd.DataFrame({'body_discussion_topic_id': courseDiscussionForums.loc[(courseDiscussionForums['is_graded'] == True) & (courseDiscussionForums['metadata_context_id'] == course)]['body_discussion_topic_id'].unique()}).merge(pd.DataFrame({'metadata_user_id': courseStudentsData.loc[courseStudentsData['metadata_context_id'] == course]['metadata_user_id'].unique()}), how = 'cross')\n",
    "    courseStudentAssignmentsCompleteCourse['metadata_context_id'] = course\n",
    "    courseStudentAssignmentsComplete = courseStudentAssignmentsComplete.append(courseStudentAssignmentsCompleteCourse, ignore_index = True)\n",
    "\n",
    "courseStudentAssignmentsComplete"
   ]
  },
  {
   "cell_type": "code",
   "execution_count": null,
   "id": "9c87a965",
   "metadata": {},
   "outputs": [],
   "source": [
    "discussionForumsPostsDataGradedFirstPost = discussionForumsPostsDataGraded.groupby(['metadata_context_id', 'body_discussion_topic_id'])['metadata_event_time'].min().to_frame('first_post').reset_index()\n",
    "discussionForumsPostsDataGradedFirstPost"
   ]
  },
  {
   "cell_type": "code",
   "execution_count": null,
   "id": "1a9db7a5",
   "metadata": {},
   "outputs": [],
   "source": [
    "discussionForumsPostsDataGraded = discussionForumsPostsDataGraded.merge(discussionForumsPostsDataGradedFirstPost, on=['metadata_context_id', 'body_discussion_topic_id'])\n",
    "discussionForumsPostsDataGraded"
   ]
  },
  {
   "cell_type": "code",
   "execution_count": null,
   "id": "d297fc7f",
   "metadata": {},
   "outputs": [],
   "source": [
    "def calculateDelay(df):\n",
    "    return (time.mktime(df['metadata_event_time'].timetuple()) / 3600) - (time.mktime(df['first_post'].timetuple()) / 3600)\n",
    "\n",
    "discussionForumsPostsDataGraded['delay_assignments'] = discussionForumsPostsDataGraded.apply(calculateDelay, axis = 1)\n",
    "discussionForumsPostsDataGraded.drop(['metadata_event_time', 'first_post'], axis = 1, inplace = True)\n",
    "discussionForumsPostsDataGraded"
   ]
  },
  {
   "cell_type": "code",
   "execution_count": null,
   "id": "0e92a180",
   "metadata": {},
   "outputs": [],
   "source": [
    "discussionForumsPostsDataGraded = discussionForumsPostsDataGraded[['metadata_context_id', 'metadata_user_id', 'body_discussion_topic_id', 'delay_assignments']]\n",
    "discussionForumsPostsDataGraded"
   ]
  },
  {
   "cell_type": "code",
   "execution_count": null,
   "id": "5dde1262",
   "metadata": {},
   "outputs": [],
   "source": [
    "discussionForumsPostsDataGraded = courseStudentAssignmentsComplete.merge(discussionForumsPostsDataGraded, how='left', on=['metadata_context_id', 'metadata_user_id', 'body_discussion_topic_id'])\n",
    "discussionForumsPostsDataGraded"
   ]
  },
  {
   "cell_type": "code",
   "execution_count": null,
   "id": "e2c04ec9",
   "metadata": {},
   "outputs": [],
   "source": [
    "discussionForumsPostsDataGraded = discussionForumsPostsDataGraded.fillna(((time.mktime((endDate + timedelta(seconds = 1)).timetuple()) / 3600) - (time.mktime(startDate.timetuple()) / 3600)))\n",
    "discussionForumsPostsDataGraded"
   ]
  },
  {
   "cell_type": "code",
   "execution_count": null,
   "id": "1dccb7d2",
   "metadata": {},
   "outputs": [],
   "source": [
    "discussionForumsPostsDataGraded = discussionForumsPostsDataGraded.groupby(['metadata_context_id', 'metadata_user_id'])['delay_assignments'].mean().to_frame('ave_delay').reset_index()\n",
    "discussionForumsPostsDataGraded"
   ]
  },
  {
   "cell_type": "code",
   "execution_count": null,
   "id": "7aca12b3",
   "metadata": {},
   "outputs": [],
   "source": [
    "discussionForumsPostsDataGraded.rename(columns={\"ave_delay\": \"ave_delay_GD\"}).to_csv(\"GradedDiscussionForumsDelays_Intercession_2022.csv\", header = True, index = False)"
   ]
  },
  {
   "cell_type": "code",
   "execution_count": null,
   "id": "ca66b59c",
   "metadata": {},
   "outputs": [],
   "source": [
    "discussionForumsPostsDataUngraded = discussionForumsPostsData.loc[discussionForumsPostsData['is_graded'] == False]\n",
    "discussionForumsPostsDataUngraded.drop(['is_graded'], axis = 1, inplace = True)\n",
    "discussionForumsPostsDataUngraded"
   ]
  },
  {
   "cell_type": "code",
   "execution_count": null,
   "id": "97d7e348",
   "metadata": {},
   "outputs": [],
   "source": [
    "courseStudentAssignmentsComplete = pd.DataFrame()\n",
    "\n",
    "for course in courseDiscussionForums.loc[courseDiscussionForums['is_graded'] == False]['metadata_context_id'].unique():\n",
    "    courseStudentAssignmentsCompleteCourse = pd.DataFrame({'body_discussion_topic_id': courseDiscussionForums.loc[(courseDiscussionForums['is_graded'] == False) & (courseDiscussionForums['metadata_context_id'] == course)]['body_discussion_topic_id'].unique()}).merge(pd.DataFrame({'metadata_user_id': courseStudentsData.loc[courseStudentsData['metadata_context_id'] == course]['metadata_user_id'].unique()}), how = 'cross')\n",
    "    courseStudentAssignmentsCompleteCourse['metadata_context_id'] = course\n",
    "    courseStudentAssignmentsComplete = courseStudentAssignmentsComplete.append(courseStudentAssignmentsCompleteCourse, ignore_index = True)\n",
    "\n",
    "courseStudentAssignmentsComplete"
   ]
  },
  {
   "cell_type": "code",
   "execution_count": null,
   "id": "79121a5c",
   "metadata": {},
   "outputs": [],
   "source": [
    "discussionForumsPostsDataUngradedFirstPost = discussionForumsPostsDataUngraded.groupby(['metadata_context_id', 'body_discussion_topic_id'])['metadata_event_time'].min().to_frame('first_post').reset_index()\n",
    "discussionForumsPostsDataUngradedFirstPost"
   ]
  },
  {
   "cell_type": "code",
   "execution_count": null,
   "id": "43060c78",
   "metadata": {},
   "outputs": [],
   "source": [
    "discussionForumsPostsDataUngraded = discussionForumsPostsDataUngraded.merge(discussionForumsPostsDataUngradedFirstPost, on=['metadata_context_id', 'body_discussion_topic_id'])\n",
    "discussionForumsPostsDataUngraded"
   ]
  },
  {
   "cell_type": "code",
   "execution_count": null,
   "id": "43e6327a",
   "metadata": {},
   "outputs": [],
   "source": [
    "discussionForumsPostsDataUngraded['delay_assignments'] = discussionForumsPostsDataUngraded.apply(calculateDelay, axis = 1)\n",
    "discussionForumsPostsDataUngraded.drop(['metadata_event_time', 'first_post'], axis = 1, inplace = True)\n",
    "discussionForumsPostsDataUngraded"
   ]
  },
  {
   "cell_type": "code",
   "execution_count": null,
   "id": "506e4fed",
   "metadata": {},
   "outputs": [],
   "source": [
    "discussionForumsPostsDataUngraded = discussionForumsPostsDataUngraded[['metadata_context_id', 'metadata_user_id', 'body_discussion_topic_id', 'delay_assignments']]\n",
    "discussionForumsPostsDataUngraded"
   ]
  },
  {
   "cell_type": "code",
   "execution_count": null,
   "id": "213ecc3a",
   "metadata": {},
   "outputs": [],
   "source": [
    "discussionForumsPostsDataUngraded = courseStudentAssignmentsComplete.merge(discussionForumsPostsDataUngraded, how='left', on=['metadata_context_id', 'metadata_user_id', 'body_discussion_topic_id'])\n",
    "discussionForumsPostsDataUngraded"
   ]
  },
  {
   "cell_type": "code",
   "execution_count": null,
   "id": "b665eef1",
   "metadata": {},
   "outputs": [],
   "source": [
    "discussionForumsPostsDataUngraded = discussionForumsPostsDataUngraded.fillna(((time.mktime((endDate + timedelta(seconds = 1)).timetuple()) / 3600) - (time.mktime(startDate.timetuple()) / 3600)))\n",
    "discussionForumsPostsDataUngraded"
   ]
  },
  {
   "cell_type": "code",
   "execution_count": null,
   "id": "61143662",
   "metadata": {},
   "outputs": [],
   "source": [
    "#discussionForumsPostsDataUngraded['delay_assignments'] = discussionForumsPostsDataUngraded.apply(setDelayToEndOfSemester, axis = 1)\n",
    "#discussionForumsPostsDataUngraded"
   ]
  },
  {
   "cell_type": "code",
   "execution_count": null,
   "id": "fc85ff04",
   "metadata": {},
   "outputs": [],
   "source": [
    "#discussionForumsPostsDataUngraded.drop(['creation_time'], axis = 1, inplace = True)\n",
    "#discussionForumsPostsDataUngraded"
   ]
  },
  {
   "cell_type": "code",
   "execution_count": null,
   "id": "00660711",
   "metadata": {},
   "outputs": [],
   "source": [
    "discussionForumsPostsDataUngraded = discussionForumsPostsDataUngraded.groupby(['metadata_context_id', 'metadata_user_id'])['delay_assignments'].mean().to_frame('ave_delay').reset_index()\n",
    "discussionForumsPostsDataUngraded"
   ]
  },
  {
   "cell_type": "code",
   "execution_count": null,
   "id": "4af6dca9",
   "metadata": {},
   "outputs": [],
   "source": [
    "discussionForumsPostsDataUngraded.rename(columns={\"ave_delay\": \"ave_delay_UD\"}).to_csv(\"UngradedDiscussionForumsDelays_Intercession_2022.csv\", header = True, index = False)"
   ]
  },
  {
   "cell_type": "code",
   "execution_count": null,
   "id": "5539928f",
   "metadata": {},
   "outputs": [],
   "source": []
  }
 ],
 "metadata": {
  "kernelspec": {
   "display_name": "Python 3 (ipykernel)",
   "language": "python",
   "name": "python3"
  },
  "language_info": {
   "codemirror_mode": {
    "name": "ipython",
    "version": 3
   },
   "file_extension": ".py",
   "mimetype": "text/x-python",
   "name": "python",
   "nbconvert_exporter": "python",
   "pygments_lexer": "ipython3",
   "version": "3.8.16"
  }
 },
 "nbformat": 4,
 "nbformat_minor": 5
}
